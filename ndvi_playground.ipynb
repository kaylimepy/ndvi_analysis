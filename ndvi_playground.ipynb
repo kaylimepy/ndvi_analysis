{
 "cells": [
  {
   "cell_type": "markdown",
   "metadata": {},
   "source": [
    "<h1 style=\"color:limegreen;\">Remote sensing, analysing and predicting NDVI values in Tempe, AZ 🌳 🌿</h1>"
   ]
  },
  {
   "cell_type": "code",
   "execution_count": 1,
   "metadata": {},
   "outputs": [],
   "source": [
    "import os\n",
    "import pandas\n",
    "import rasterio\n",
    "import numpy\n",
    "import json\n",
    "import datetime\n",
    "import plotly.graph_objects\n",
    "import glob"
   ]
  },
  {
   "cell_type": "code",
   "execution_count": 2,
   "metadata": {},
   "outputs": [],
   "source": [
    "import warnings\n",
    "warnings.filterwarnings('ignore')"
   ]
  },
  {
   "cell_type": "markdown",
   "metadata": {},
   "source": [
    "## Processing JSON Metadata Files\n",
    "\n",
    "Each downloaded Landsat scene includes a metadata file in JSON format with the suffix \"MTL.json\". This file contains valuable information about the scene, including the product ID and the acquisition date. We need these details for further analysis and visualization.\n",
    "\n",
    "The function `process_json_files(directory)` is designed to extract this important information from all the downloaded scenes. It iterates over every file in the given directory, and when it finds a file that ends with \"MTL.json\", it opens the file and loads the data.\n",
    "\n",
    "From the loaded JSON data, it specifically extracts the following two pieces of information:\n",
    "\n",
    "- `LANDSAT_PRODUCT_ID`: This is a unique identifier for each Landsat product. It will be used to match the scene's data files (i.e., the different spectral bands) to the metadata.\n",
    "- `DATE_ACQUIRED`: The date when the image was taken. This will be used for temporal analysis and visualization.\n",
    "\n",
    "After extracting these details, the function constructs a dictionary for each scene and appends it to a list. This list of dictionaries, each representing a scene and its corresponding metadata, is returned by the function.\n",
    "\n",
    "Let's execute the function and process the metadata files for our downloaded scenes:"
   ]
  },
  {
   "cell_type": "code",
   "execution_count": 3,
   "metadata": {},
   "outputs": [],
   "source": [
    "def process_json_files(directory):\n",
    "    \"\"\"Processes .json files in a directory and extracts scene information.\n",
    "    Args:\n",
    "        directory (str): The directory path containing the .json files.\n",
    "    Returns:\n",
    "        list: A list of dictionaries containing scene information.\n",
    "    \"\"\"\n",
    "    scenes = []\n",
    "    for filename in os.listdir(directory):\n",
    "        if filename.endswith('MTL.json'):\n",
    "            filepath = os.path.join(directory, filename)\n",
    "            \n",
    "            with open(filepath) as f:\n",
    "                data = json.load(f)\n",
    "\n",
    "            scene = {\n",
    "                \"LANDSAT_PRODUCT_ID\": data[\"LANDSAT_METADATA_FILE\"][\"PRODUCT_CONTENTS\"][\"LANDSAT_PRODUCT_ID\"],\n",
    "                \"DATE_ACQUIRED\": data[\"LANDSAT_METADATA_FILE\"][\"IMAGE_ATTRIBUTES\"][\"DATE_ACQUIRED\"]\n",
    "            }\n",
    "\n",
    "            scenes.append(scene)\n",
    "\n",
    "    return scenes\n",
    "\n",
    "scenes = process_json_files('temp/landsat_scenes/')"
   ]
  },
  {
   "cell_type": "markdown",
   "metadata": {},
   "source": [
    "## Calculate NDVI Function Explanation\n",
    "\n",
    "The `calculate_ndvi` function calculates the Normalized Difference Vegetation Index (NDVI) for each scene in the given output directory.\n",
    "\n",
    "The NDVI is computed using the formula: (NIR - Red) / (NIR + Red), where NIR represents near-infrared values and Red represents red band values.\n",
    "\n",
    "To handle the division by zero scenario, which can occur when both NIR and red values are zero for a pixel, the code incorporates a conditional check. If the denominator (NIR + Red) is zero, the corresponding NDVI value is assigned as `numpy.nan`, indicating an invalid or missing value. This prevents division by zero and ensures that such cases are properly handled.\n",
    "\n",
    "By utilizing the `numpy.where` function, the code intelligently handles different scenarios while calculating the NDVI values, ensuring accurate and valid results.\n"
   ]
  },
  {
   "cell_type": "code",
   "execution_count": 4,
   "metadata": {},
   "outputs": [],
   "source": [
    "def calculate_ndvi(output_dir, scenes):\n",
    "    \"\"\"Calculates the Normalized Difference Vegetation Index (NDVI) for each scene in the given output directory.\n",
    "\n",
    "    Args:\n",
    "        output_dir (str): The directory path containing the scene files.\n",
    "    Returns:\n",
    "        list: A list of NDVI values calculated for each scene.\"\"\"\n",
    "    \n",
    "    ndvi_values = []\n",
    "    for scene in scenes:\n",
    "        red_files = glob.glob(f\"{output_dir}/{scene['LANDSAT_PRODUCT_ID']}*_B4.TIF\")\n",
    "        nir_files = glob.glob(f\"{output_dir}/{scene['LANDSAT_PRODUCT_ID']}*_B5.TIF\")\n",
    "\n",
    "        if len(red_files) > 0 and len(nir_files) > 0:\n",
    "            with rasterio.open(red_files[0]) as red_band, rasterio.open(nir_files[0]) as nir_band:\n",
    "                red = red_band.read()\n",
    "                nir = nir_band.read()\n",
    "\n",
    "            ndvi = numpy.where((nir + red) == 0, numpy.nan, (nir.astype(float) - red) / (nir + red))\n",
    "\n",
    "            ndvi_values.append(numpy.nanmean(ndvi))\n",
    "        else:\n",
    "            print(f\"No matching files found for scene: {scene['LANDSAT_PRODUCT_ID']}\")\n",
    "\n",
    "    return ndvi_values\n",
    "\n",
    "ndvi_values = calculate_ndvi('temp/landsat_scenes/', scenes)\n"
   ]
  },
  {
   "cell_type": "markdown",
   "metadata": {},
   "source": [
    "## Creating DataFrame and Visualizing NDVI Over Time\n",
    "\n",
    "In this section, we are plotly.graph_objectsing to take our NDVI data and dates and put them into a pandas DataFrame. The dates are first converted into Python's `datetime` objects for easy manipulation and better compatibility with various libraries.\n",
    "\n",
    "Here's what we're doing in this block of code:\n",
    "\n",
    "1. **Create a list of dates**: We're iterating over our scenes and converting the `DATE_ACQUIRED` string into a Python `datetime` object. \n",
    "\n",
    "2. **Create a DataFrame**: We're then creating a pandas DataFrame with two columns: 'date' and 'ndvi', which correspond to our dates and NDVI values, respectively.\n",
    "\n",
    "3. **Convert the 'date' column**: We're converting the 'date' column of the DataFrame into the `datetime` type. This conversion facilitates date-based operations and plotting.\n",
    "\n",
    "4. **Sort the DataFrame**: We're sorting the DataFrame based on the 'date' column. This ensures our data is in chronological order.\n",
    "\n",
    "Finally, we define a function `plot_ndvi` to create a plot of our NDVI data over time. We use Matplotlib to create our plot, and add markers at each data point for better visibility. We also make use of `DateFormatter` and `MonthLocator` to format our x-axis nicely, displaying dates at 6-month intervals."
   ]
  },
  {
   "cell_type": "code",
   "execution_count": 5,
   "metadata": {},
   "outputs": [
    {
     "data": {
      "application/vnd.plotly.v1+json": {
       "config": {
        "plotlyServerURL": "https://plot.ly"
       },
       "data": [
        {
         "line": {
          "color": "green"
         },
         "marker": {
          "color": "green"
         },
         "mode": "lines+markers",
         "type": "scatter",
         "x": [
          "2008-09-17T00:00:00",
          "2008-09-24T00:00:00",
          "2008-10-10T00:00:00",
          "2008-10-19T00:00:00",
          "2008-10-26T00:00:00",
          "2008-11-11T00:00:00",
          "2008-12-29T00:00:00",
          "2009-01-14T00:00:00",
          "2009-01-30T00:00:00",
          "2009-04-04T00:00:00",
          "2009-04-20T00:00:00",
          "2009-05-06T00:00:00",
          "2009-06-07T00:00:00",
          "2009-07-09T00:00:00",
          "2009-08-10T00:00:00",
          "2009-08-26T00:00:00",
          "2009-09-11T00:00:00",
          "2009-09-20T00:00:00",
          "2009-09-27T00:00:00",
          "2009-10-13T00:00:00",
          "2009-10-22T00:00:00",
          "2010-02-18T00:00:00",
          "2010-03-15T00:00:00",
          "2010-03-22T00:00:00",
          "2010-04-07T00:00:00",
          "2010-05-25T00:00:00",
          "2010-06-03T00:00:00",
          "2010-06-10T00:00:00",
          "2010-06-19T00:00:00",
          "2010-06-26T00:00:00",
          "2010-07-05T00:00:00",
          "2010-07-12T00:00:00",
          "2010-08-13T00:00:00",
          "2010-08-22T00:00:00",
          "2010-09-14T00:00:00",
          "2010-09-23T00:00:00",
          "2010-09-30T00:00:00",
          "2010-10-09T00:00:00",
          "2010-10-16T00:00:00",
          "2010-11-01T00:00:00",
          "2010-11-10T00:00:00",
          "2010-11-17T00:00:00",
          "2011-01-04T00:00:00",
          "2011-01-20T00:00:00",
          "2011-02-14T00:00:00",
          "2011-02-21T00:00:00",
          "2011-03-02T00:00:00",
          "2011-03-09T00:00:00",
          "2011-03-25T00:00:00",
          "2011-04-03T00:00:00",
          "2011-04-10T00:00:00",
          "2011-04-26T00:00:00",
          "2011-05-05T00:00:00",
          "2011-05-12T00:00:00",
          "2011-05-21T00:00:00",
          "2011-05-28T00:00:00",
          "2011-06-06T00:00:00",
          "2011-06-13T00:00:00",
          "2011-06-22T00:00:00",
          "2011-06-29T00:00:00",
          "2011-07-15T00:00:00",
          "2011-09-01T00:00:00",
          "2011-09-10T00:00:00",
          "2011-09-17T00:00:00",
          "2011-10-19T00:00:00",
          "2011-10-28T00:00:00"
         ],
         "y": [
          -0.00023094811332809642,
          0.03647244653886872,
          0.03975455443480733,
          0.01711308061716027,
          0.043774001164625244,
          0.040186500104190816,
          0.0381898746243316,
          0.03744497490514282,
          0.03363639764924274,
          0.05359319012366071,
          0.05828127184136722,
          0.05640057417544373,
          0.05289962007353259,
          0.059527734259877285,
          0.057413351654841814,
          0.054084299705443685,
          0.04637093548158778,
          0.03252564390301788,
          0.0560286890306378,
          0.04172817135627198,
          0.04116973320094261,
          0.03482710439031561,
          0.0016668083549682673,
          -0.010102348417394123,
          0.014978104290127352,
          0.04113132100093433,
          0.020243941058788257,
          0.03347365096255261,
          0.025737345028036297,
          0.04398099089152895,
          0.026764149902340315,
          0.038883653448262154,
          0.051300535428754006,
          0.0058831836398646606,
          0.05272021030615206,
          -0.0032375176896599347,
          0.045378709405840004,
          0.028907660766329356,
          0.0534477283105194,
          0.057959366592076435,
          0.0364705619904081,
          0.05768271020436667,
          0.05149825618648895,
          0.059656840595232526,
          0.04999555451468422,
          0.016138026269772926,
          0.0393420811099287,
          0.04973229457003319,
          0.05240081908097984,
          0.04479135370794305,
          0.048955465184900064,
          0.05712424997183623,
          0.04849123927475759,
          0.058880730721976006,
          0.05175945625802656,
          0.06017321400182591,
          0.05644621203634024,
          0.06363812822075954,
          0.05282080607131689,
          0.05447915423358445,
          0.059986263723968966,
          0.049085688851184674,
          0.028880217226018096,
          0.04951519575512876,
          0.04870938063354299,
          0.03076024643779913
         ]
        }
       ],
       "layout": {
        "autosize": false,
        "height": 600,
        "template": {
         "data": {
          "bar": [
           {
            "error_x": {
             "color": "#2a3f5f"
            },
            "error_y": {
             "color": "#2a3f5f"
            },
            "marker": {
             "line": {
              "color": "#E5ECF6",
              "width": 0.5
             },
             "pattern": {
              "fillmode": "overlay",
              "size": 10,
              "solidity": 0.2
             }
            },
            "type": "bar"
           }
          ],
          "barpolar": [
           {
            "marker": {
             "line": {
              "color": "#E5ECF6",
              "width": 0.5
             },
             "pattern": {
              "fillmode": "overlay",
              "size": 10,
              "solidity": 0.2
             }
            },
            "type": "barpolar"
           }
          ],
          "carpet": [
           {
            "aaxis": {
             "endlinecolor": "#2a3f5f",
             "gridcolor": "white",
             "linecolor": "white",
             "minorgridcolor": "white",
             "startlinecolor": "#2a3f5f"
            },
            "baxis": {
             "endlinecolor": "#2a3f5f",
             "gridcolor": "white",
             "linecolor": "white",
             "minorgridcolor": "white",
             "startlinecolor": "#2a3f5f"
            },
            "type": "carpet"
           }
          ],
          "choropleth": [
           {
            "colorbar": {
             "outlinewidth": 0,
             "ticks": ""
            },
            "type": "choropleth"
           }
          ],
          "contour": [
           {
            "colorbar": {
             "outlinewidth": 0,
             "ticks": ""
            },
            "colorscale": [
             [
              0,
              "#0d0887"
             ],
             [
              0.1111111111111111,
              "#46039f"
             ],
             [
              0.2222222222222222,
              "#7201a8"
             ],
             [
              0.3333333333333333,
              "#9c179e"
             ],
             [
              0.4444444444444444,
              "#bd3786"
             ],
             [
              0.5555555555555556,
              "#d8576b"
             ],
             [
              0.6666666666666666,
              "#ed7953"
             ],
             [
              0.7777777777777778,
              "#fb9f3a"
             ],
             [
              0.8888888888888888,
              "#fdca26"
             ],
             [
              1,
              "#f0f921"
             ]
            ],
            "type": "contour"
           }
          ],
          "contourcarpet": [
           {
            "colorbar": {
             "outlinewidth": 0,
             "ticks": ""
            },
            "type": "contourcarpet"
           }
          ],
          "heatmap": [
           {
            "colorbar": {
             "outlinewidth": 0,
             "ticks": ""
            },
            "colorscale": [
             [
              0,
              "#0d0887"
             ],
             [
              0.1111111111111111,
              "#46039f"
             ],
             [
              0.2222222222222222,
              "#7201a8"
             ],
             [
              0.3333333333333333,
              "#9c179e"
             ],
             [
              0.4444444444444444,
              "#bd3786"
             ],
             [
              0.5555555555555556,
              "#d8576b"
             ],
             [
              0.6666666666666666,
              "#ed7953"
             ],
             [
              0.7777777777777778,
              "#fb9f3a"
             ],
             [
              0.8888888888888888,
              "#fdca26"
             ],
             [
              1,
              "#f0f921"
             ]
            ],
            "type": "heatmap"
           }
          ],
          "heatmapgl": [
           {
            "colorbar": {
             "outlinewidth": 0,
             "ticks": ""
            },
            "colorscale": [
             [
              0,
              "#0d0887"
             ],
             [
              0.1111111111111111,
              "#46039f"
             ],
             [
              0.2222222222222222,
              "#7201a8"
             ],
             [
              0.3333333333333333,
              "#9c179e"
             ],
             [
              0.4444444444444444,
              "#bd3786"
             ],
             [
              0.5555555555555556,
              "#d8576b"
             ],
             [
              0.6666666666666666,
              "#ed7953"
             ],
             [
              0.7777777777777778,
              "#fb9f3a"
             ],
             [
              0.8888888888888888,
              "#fdca26"
             ],
             [
              1,
              "#f0f921"
             ]
            ],
            "type": "heatmapgl"
           }
          ],
          "histogram": [
           {
            "marker": {
             "pattern": {
              "fillmode": "overlay",
              "size": 10,
              "solidity": 0.2
             }
            },
            "type": "histogram"
           }
          ],
          "histogram2d": [
           {
            "colorbar": {
             "outlinewidth": 0,
             "ticks": ""
            },
            "colorscale": [
             [
              0,
              "#0d0887"
             ],
             [
              0.1111111111111111,
              "#46039f"
             ],
             [
              0.2222222222222222,
              "#7201a8"
             ],
             [
              0.3333333333333333,
              "#9c179e"
             ],
             [
              0.4444444444444444,
              "#bd3786"
             ],
             [
              0.5555555555555556,
              "#d8576b"
             ],
             [
              0.6666666666666666,
              "#ed7953"
             ],
             [
              0.7777777777777778,
              "#fb9f3a"
             ],
             [
              0.8888888888888888,
              "#fdca26"
             ],
             [
              1,
              "#f0f921"
             ]
            ],
            "type": "histogram2d"
           }
          ],
          "histogram2dcontour": [
           {
            "colorbar": {
             "outlinewidth": 0,
             "ticks": ""
            },
            "colorscale": [
             [
              0,
              "#0d0887"
             ],
             [
              0.1111111111111111,
              "#46039f"
             ],
             [
              0.2222222222222222,
              "#7201a8"
             ],
             [
              0.3333333333333333,
              "#9c179e"
             ],
             [
              0.4444444444444444,
              "#bd3786"
             ],
             [
              0.5555555555555556,
              "#d8576b"
             ],
             [
              0.6666666666666666,
              "#ed7953"
             ],
             [
              0.7777777777777778,
              "#fb9f3a"
             ],
             [
              0.8888888888888888,
              "#fdca26"
             ],
             [
              1,
              "#f0f921"
             ]
            ],
            "type": "histogram2dcontour"
           }
          ],
          "mesh3d": [
           {
            "colorbar": {
             "outlinewidth": 0,
             "ticks": ""
            },
            "type": "mesh3d"
           }
          ],
          "parcoords": [
           {
            "line": {
             "colorbar": {
              "outlinewidth": 0,
              "ticks": ""
             }
            },
            "type": "parcoords"
           }
          ],
          "pie": [
           {
            "automargin": true,
            "type": "pie"
           }
          ],
          "scatter": [
           {
            "fillpattern": {
             "fillmode": "overlay",
             "size": 10,
             "solidity": 0.2
            },
            "type": "scatter"
           }
          ],
          "scatter3d": [
           {
            "line": {
             "colorbar": {
              "outlinewidth": 0,
              "ticks": ""
             }
            },
            "marker": {
             "colorbar": {
              "outlinewidth": 0,
              "ticks": ""
             }
            },
            "type": "scatter3d"
           }
          ],
          "scattercarpet": [
           {
            "marker": {
             "colorbar": {
              "outlinewidth": 0,
              "ticks": ""
             }
            },
            "type": "scattercarpet"
           }
          ],
          "scattergeo": [
           {
            "marker": {
             "colorbar": {
              "outlinewidth": 0,
              "ticks": ""
             }
            },
            "type": "scattergeo"
           }
          ],
          "scattergl": [
           {
            "marker": {
             "colorbar": {
              "outlinewidth": 0,
              "ticks": ""
             }
            },
            "type": "scattergl"
           }
          ],
          "scattermapbox": [
           {
            "marker": {
             "colorbar": {
              "outlinewidth": 0,
              "ticks": ""
             }
            },
            "type": "scattermapbox"
           }
          ],
          "scatterpolar": [
           {
            "marker": {
             "colorbar": {
              "outlinewidth": 0,
              "ticks": ""
             }
            },
            "type": "scatterpolar"
           }
          ],
          "scatterpolargl": [
           {
            "marker": {
             "colorbar": {
              "outlinewidth": 0,
              "ticks": ""
             }
            },
            "type": "scatterpolargl"
           }
          ],
          "scatterternary": [
           {
            "marker": {
             "colorbar": {
              "outlinewidth": 0,
              "ticks": ""
             }
            },
            "type": "scatterternary"
           }
          ],
          "surface": [
           {
            "colorbar": {
             "outlinewidth": 0,
             "ticks": ""
            },
            "colorscale": [
             [
              0,
              "#0d0887"
             ],
             [
              0.1111111111111111,
              "#46039f"
             ],
             [
              0.2222222222222222,
              "#7201a8"
             ],
             [
              0.3333333333333333,
              "#9c179e"
             ],
             [
              0.4444444444444444,
              "#bd3786"
             ],
             [
              0.5555555555555556,
              "#d8576b"
             ],
             [
              0.6666666666666666,
              "#ed7953"
             ],
             [
              0.7777777777777778,
              "#fb9f3a"
             ],
             [
              0.8888888888888888,
              "#fdca26"
             ],
             [
              1,
              "#f0f921"
             ]
            ],
            "type": "surface"
           }
          ],
          "table": [
           {
            "cells": {
             "fill": {
              "color": "#EBF0F8"
             },
             "line": {
              "color": "white"
             }
            },
            "header": {
             "fill": {
              "color": "#C8D4E3"
             },
             "line": {
              "color": "white"
             }
            },
            "type": "table"
           }
          ]
         },
         "layout": {
          "annotationdefaults": {
           "arrowcolor": "#2a3f5f",
           "arrowhead": 0,
           "arrowwidth": 1
          },
          "autotypenumbers": "strict",
          "coloraxis": {
           "colorbar": {
            "outlinewidth": 0,
            "ticks": ""
           }
          },
          "colorscale": {
           "diverging": [
            [
             0,
             "#8e0152"
            ],
            [
             0.1,
             "#c51b7d"
            ],
            [
             0.2,
             "#de77ae"
            ],
            [
             0.3,
             "#f1b6da"
            ],
            [
             0.4,
             "#fde0ef"
            ],
            [
             0.5,
             "#f7f7f7"
            ],
            [
             0.6,
             "#e6f5d0"
            ],
            [
             0.7,
             "#b8e186"
            ],
            [
             0.8,
             "#7fbc41"
            ],
            [
             0.9,
             "#4d9221"
            ],
            [
             1,
             "#276419"
            ]
           ],
           "sequential": [
            [
             0,
             "#0d0887"
            ],
            [
             0.1111111111111111,
             "#46039f"
            ],
            [
             0.2222222222222222,
             "#7201a8"
            ],
            [
             0.3333333333333333,
             "#9c179e"
            ],
            [
             0.4444444444444444,
             "#bd3786"
            ],
            [
             0.5555555555555556,
             "#d8576b"
            ],
            [
             0.6666666666666666,
             "#ed7953"
            ],
            [
             0.7777777777777778,
             "#fb9f3a"
            ],
            [
             0.8888888888888888,
             "#fdca26"
            ],
            [
             1,
             "#f0f921"
            ]
           ],
           "sequentialminus": [
            [
             0,
             "#0d0887"
            ],
            [
             0.1111111111111111,
             "#46039f"
            ],
            [
             0.2222222222222222,
             "#7201a8"
            ],
            [
             0.3333333333333333,
             "#9c179e"
            ],
            [
             0.4444444444444444,
             "#bd3786"
            ],
            [
             0.5555555555555556,
             "#d8576b"
            ],
            [
             0.6666666666666666,
             "#ed7953"
            ],
            [
             0.7777777777777778,
             "#fb9f3a"
            ],
            [
             0.8888888888888888,
             "#fdca26"
            ],
            [
             1,
             "#f0f921"
            ]
           ]
          },
          "colorway": [
           "#636efa",
           "#EF553B",
           "#00cc96",
           "#ab63fa",
           "#FFA15A",
           "#19d3f3",
           "#FF6692",
           "#B6E880",
           "#FF97FF",
           "#FECB52"
          ],
          "font": {
           "color": "#2a3f5f"
          },
          "geo": {
           "bgcolor": "white",
           "lakecolor": "white",
           "landcolor": "#E5ECF6",
           "showlakes": true,
           "showland": true,
           "subunitcolor": "white"
          },
          "hoverlabel": {
           "align": "left"
          },
          "hovermode": "closest",
          "mapbox": {
           "style": "light"
          },
          "paper_bgcolor": "white",
          "plot_bgcolor": "#E5ECF6",
          "polar": {
           "angularaxis": {
            "gridcolor": "white",
            "linecolor": "white",
            "ticks": ""
           },
           "bgcolor": "#E5ECF6",
           "radialaxis": {
            "gridcolor": "white",
            "linecolor": "white",
            "ticks": ""
           }
          },
          "scene": {
           "xaxis": {
            "backgroundcolor": "#E5ECF6",
            "gridcolor": "white",
            "gridwidth": 2,
            "linecolor": "white",
            "showbackground": true,
            "ticks": "",
            "zerolinecolor": "white"
           },
           "yaxis": {
            "backgroundcolor": "#E5ECF6",
            "gridcolor": "white",
            "gridwidth": 2,
            "linecolor": "white",
            "showbackground": true,
            "ticks": "",
            "zerolinecolor": "white"
           },
           "zaxis": {
            "backgroundcolor": "#E5ECF6",
            "gridcolor": "white",
            "gridwidth": 2,
            "linecolor": "white",
            "showbackground": true,
            "ticks": "",
            "zerolinecolor": "white"
           }
          },
          "shapedefaults": {
           "line": {
            "color": "#2a3f5f"
           }
          },
          "ternary": {
           "aaxis": {
            "gridcolor": "white",
            "linecolor": "white",
            "ticks": ""
           },
           "baxis": {
            "gridcolor": "white",
            "linecolor": "white",
            "ticks": ""
           },
           "bgcolor": "#E5ECF6",
           "caxis": {
            "gridcolor": "white",
            "linecolor": "white",
            "ticks": ""
           }
          },
          "title": {
           "x": 0.05
          },
          "xaxis": {
           "automargin": true,
           "gridcolor": "white",
           "linecolor": "white",
           "ticks": "",
           "title": {
            "standoff": 15
           },
           "zerolinecolor": "white",
           "zerolinewidth": 2
          },
          "yaxis": {
           "automargin": true,
           "gridcolor": "white",
           "linecolor": "white",
           "ticks": "",
           "title": {
            "standoff": 15
           },
           "zerolinecolor": "white",
           "zerolinewidth": 2
          }
         }
        },
        "title": {
         "font": {
          "color": "green"
         },
         "text": "NDVI Over Time"
        },
        "width": 1000,
        "xaxis": {
         "title": {
          "text": "Date"
         }
        },
        "yaxis": {
         "title": {
          "text": "NDVI"
         }
        }
       }
      }
     },
     "metadata": {},
     "output_type": "display_data"
    }
   ],
   "source": [
    "dates = [datetime.datetime.strptime(scene['DATE_ACQUIRED'], \"%Y-%m-%d\") for scene in scenes]\n",
    "\n",
    "ndvi_df = pandas.DataFrame({\n",
    "    'date': dates,\n",
    "    'ndvi': ndvi_values\n",
    "})\n",
    "\n",
    "ndvi_df['date'] = pandas.to_datetime(ndvi_df['date'])\n",
    "ndvi_df         = ndvi_df.sort_values('date')\n",
    "\n",
    "ndvi_df.set_index('date', inplace=True)\n",
    "\n",
    "\n",
    "\n",
    "def plot_ndvi(df, title='NDVI Over Time'):\n",
    "    \"\"\"Plot NDVI over time given a DataFrame.\n",
    "\n",
    "    Args:\n",
    "    df (pandas.DataFrame): DataFrame containing 'date' and 'ndvi' columns.\n",
    "    title (str): Title of the plot. Defaults to 'NDVI over Time'.\n",
    "    \"\"\"\n",
    "    fig = plotly.graph_objects.Figure()\n",
    "\n",
    "    fig.add_trace(\n",
    "        plotly.graph_objects.Scatter(\n",
    "            x=df.index, \n",
    "            y=df['ndvi'], \n",
    "            mode='lines+markers',\n",
    "            line=dict(color='green'), \n",
    "            marker=dict(color='green')\n",
    "        )\n",
    "    )\n",
    "    \n",
    "    fig.update_layout(\n",
    "        title={'text': title, 'font': {'color': 'green'}},\n",
    "        xaxis_title=\"Date\",\n",
    "        yaxis_title=\"NDVI\",\n",
    "        autosize=False,\n",
    "        width=1000,\n",
    "        height=600,\n",
    "    )\n",
    "    \n",
    "    fig.show()\n",
    "\n",
    "plot_ndvi(ndvi_df)"
   ]
  },
  {
   "cell_type": "code",
   "execution_count": 6,
   "metadata": {},
   "outputs": [
    {
     "name": "stdout",
     "output_type": "stream",
     "text": [
      "count    66.000000\n",
      "mean      0.041481\n",
      "std       0.017053\n",
      "min      -0.010102\n",
      "25%       0.033934\n",
      "50%       0.045875\n",
      "75%       0.053557\n",
      "max       0.063638\n",
      "Name: ndvi, dtype: float64\n"
     ]
    }
   ],
   "source": [
    "print(ndvi_df['ndvi'].describe())"
   ]
  },
  {
   "cell_type": "markdown",
   "metadata": {},
   "source": [
    "## Analyzing NDVI Data\n",
    "\n",
    "Analyzing the data, we observe that the NDVI values fluctuate throughout the time period, indicating changes in vegetation density. Some key insights from the data include:\n",
    "\n",
    "- The NDVI values show a general increasing trend, suggesting an overall increase in vegetation over time.\n",
    "- There are periods with higher NDVI values, indicating periods of abundant vegetation growth, and periods with lower NDVI values, suggesting relatively lower vegetation density.\n",
    "- Notable spikes in NDVI values can be observed at specific time points, indicating significant bursts of vegetation growth.\n",
    "- Seasonal patterns can also be observed, with fluctuations in NDVI values corresponding to different seasons.\n",
    "\n",
    "The NDVI data provides valuable information about vegetation dynamics over time. By analyzing the trends and patterns, we can gain insights into the health, growth, and seasonal variations of vegetation in the area of interest.\n"
   ]
  },
  {
   "cell_type": "markdown",
   "metadata": {},
   "source": [
    "## Stationarity and the Augmented Dickey-Fuller Test\n",
    "\n",
    "We're dealing with **time series data** here, which means we have to check if our data is *stationary*. A stationary time series is one where statistical properties — like mean and variance — are constant over time."
   ]
  },
  {
   "cell_type": "code",
   "execution_count": 7,
   "metadata": {},
   "outputs": [
    {
     "data": {
      "application/vnd.plotly.v1+json": {
       "config": {
        "plotlyServerURL": "https://plot.ly"
       },
       "data": [
        {
         "line": {
          "color": "blue"
         },
         "marker": {
          "color": "blue"
         },
         "mode": "lines+markers",
         "type": "scatter",
         "x": [
          "2008-09-17T00:00:00",
          "2008-09-24T00:00:00",
          "2008-10-10T00:00:00",
          "2008-10-19T00:00:00",
          "2008-10-26T00:00:00",
          "2008-11-11T00:00:00",
          "2008-12-29T00:00:00",
          "2009-01-14T00:00:00",
          "2009-01-30T00:00:00",
          "2009-04-04T00:00:00",
          "2009-04-20T00:00:00",
          "2009-05-06T00:00:00",
          "2009-06-07T00:00:00",
          "2009-07-09T00:00:00",
          "2009-08-10T00:00:00",
          "2009-08-26T00:00:00",
          "2009-09-11T00:00:00",
          "2009-09-20T00:00:00",
          "2009-09-27T00:00:00",
          "2009-10-13T00:00:00",
          "2009-10-22T00:00:00",
          "2010-02-18T00:00:00",
          "2010-03-15T00:00:00",
          "2010-03-22T00:00:00",
          "2010-04-07T00:00:00",
          "2010-05-25T00:00:00",
          "2010-06-03T00:00:00",
          "2010-06-10T00:00:00",
          "2010-06-19T00:00:00",
          "2010-06-26T00:00:00",
          "2010-07-05T00:00:00",
          "2010-07-12T00:00:00",
          "2010-08-13T00:00:00",
          "2010-08-22T00:00:00",
          "2010-09-14T00:00:00",
          "2010-09-23T00:00:00",
          "2010-09-30T00:00:00",
          "2010-10-09T00:00:00",
          "2010-10-16T00:00:00",
          "2010-11-01T00:00:00",
          "2010-11-10T00:00:00",
          "2010-11-17T00:00:00",
          "2011-01-04T00:00:00",
          "2011-01-20T00:00:00",
          "2011-02-14T00:00:00",
          "2011-02-21T00:00:00",
          "2011-03-02T00:00:00",
          "2011-03-09T00:00:00",
          "2011-03-25T00:00:00",
          "2011-04-03T00:00:00",
          "2011-04-10T00:00:00",
          "2011-04-26T00:00:00",
          "2011-05-05T00:00:00",
          "2011-05-12T00:00:00",
          "2011-05-21T00:00:00",
          "2011-05-28T00:00:00",
          "2011-06-06T00:00:00",
          "2011-06-13T00:00:00",
          "2011-06-22T00:00:00",
          "2011-06-29T00:00:00",
          "2011-07-15T00:00:00",
          "2011-09-01T00:00:00",
          "2011-09-10T00:00:00",
          "2011-09-17T00:00:00",
          "2011-10-19T00:00:00",
          "2011-10-28T00:00:00"
         ],
         "y": [
          null,
          0.03670339465219682,
          0.0032821078959386074,
          -0.022641473817647056,
          0.026660920547464974,
          -0.003587501060434428,
          -0.0019966254798592167,
          -0.0007448997191887782,
          -0.0038085772559000794,
          0.01995679247441797,
          0.004688081717706509,
          -0.0018806976659234906,
          -0.00350095410191114,
          0.006628114186344694,
          -0.002114382605035471,
          -0.003329051949398129,
          -0.007713364223855906,
          -0.013845291578569896,
          0.023503045127619915,
          -0.014300517674365819,
          -0.0005584381553293688,
          -0.006342628810626999,
          -0.03316029603534734,
          -0.01176915677236239,
          0.025080452707521475,
          0.026153216710806976,
          -0.02088737994214607,
          0.01322970990376435,
          -0.0077363059345163104,
          0.018243645863492655,
          -0.017216840989188638,
          0.01211950354592184,
          0.012416881980491852,
          -0.045417351788889344,
          0.0468370266662874,
          -0.055957727995811994,
          0.04861622709549994,
          -0.016471048639510648,
          0.024540067544190046,
          0.004511638281557033,
          -0.021488804601668333,
          0.021212148213958566,
          -0.006184454017877719,
          0.008158584408743577,
          -0.009661286080548302,
          -0.0338575282449113,
          0.023204054840155773,
          0.010390213460104492,
          0.0026685245109466516,
          -0.007609465373036792,
          0.004164111476957014,
          0.008168784786936167,
          -0.008633010697078641,
          0.010389491447218416,
          -0.007121274463949445,
          0.00841375774379935,
          -0.003727001965485671,
          0.007191916184419299,
          -0.01081732214944265,
          0.0016583481622675644,
          0.005507109490384514,
          -0.010900574872784292,
          -0.020205471625166577,
          0.020634978529110667,
          -0.0008058151215857706,
          -0.017949134195743864
         ]
        }
       ],
       "layout": {
        "autosize": false,
        "height": 600,
        "template": {
         "data": {
          "bar": [
           {
            "error_x": {
             "color": "#2a3f5f"
            },
            "error_y": {
             "color": "#2a3f5f"
            },
            "marker": {
             "line": {
              "color": "#E5ECF6",
              "width": 0.5
             },
             "pattern": {
              "fillmode": "overlay",
              "size": 10,
              "solidity": 0.2
             }
            },
            "type": "bar"
           }
          ],
          "barpolar": [
           {
            "marker": {
             "line": {
              "color": "#E5ECF6",
              "width": 0.5
             },
             "pattern": {
              "fillmode": "overlay",
              "size": 10,
              "solidity": 0.2
             }
            },
            "type": "barpolar"
           }
          ],
          "carpet": [
           {
            "aaxis": {
             "endlinecolor": "#2a3f5f",
             "gridcolor": "white",
             "linecolor": "white",
             "minorgridcolor": "white",
             "startlinecolor": "#2a3f5f"
            },
            "baxis": {
             "endlinecolor": "#2a3f5f",
             "gridcolor": "white",
             "linecolor": "white",
             "minorgridcolor": "white",
             "startlinecolor": "#2a3f5f"
            },
            "type": "carpet"
           }
          ],
          "choropleth": [
           {
            "colorbar": {
             "outlinewidth": 0,
             "ticks": ""
            },
            "type": "choropleth"
           }
          ],
          "contour": [
           {
            "colorbar": {
             "outlinewidth": 0,
             "ticks": ""
            },
            "colorscale": [
             [
              0,
              "#0d0887"
             ],
             [
              0.1111111111111111,
              "#46039f"
             ],
             [
              0.2222222222222222,
              "#7201a8"
             ],
             [
              0.3333333333333333,
              "#9c179e"
             ],
             [
              0.4444444444444444,
              "#bd3786"
             ],
             [
              0.5555555555555556,
              "#d8576b"
             ],
             [
              0.6666666666666666,
              "#ed7953"
             ],
             [
              0.7777777777777778,
              "#fb9f3a"
             ],
             [
              0.8888888888888888,
              "#fdca26"
             ],
             [
              1,
              "#f0f921"
             ]
            ],
            "type": "contour"
           }
          ],
          "contourcarpet": [
           {
            "colorbar": {
             "outlinewidth": 0,
             "ticks": ""
            },
            "type": "contourcarpet"
           }
          ],
          "heatmap": [
           {
            "colorbar": {
             "outlinewidth": 0,
             "ticks": ""
            },
            "colorscale": [
             [
              0,
              "#0d0887"
             ],
             [
              0.1111111111111111,
              "#46039f"
             ],
             [
              0.2222222222222222,
              "#7201a8"
             ],
             [
              0.3333333333333333,
              "#9c179e"
             ],
             [
              0.4444444444444444,
              "#bd3786"
             ],
             [
              0.5555555555555556,
              "#d8576b"
             ],
             [
              0.6666666666666666,
              "#ed7953"
             ],
             [
              0.7777777777777778,
              "#fb9f3a"
             ],
             [
              0.8888888888888888,
              "#fdca26"
             ],
             [
              1,
              "#f0f921"
             ]
            ],
            "type": "heatmap"
           }
          ],
          "heatmapgl": [
           {
            "colorbar": {
             "outlinewidth": 0,
             "ticks": ""
            },
            "colorscale": [
             [
              0,
              "#0d0887"
             ],
             [
              0.1111111111111111,
              "#46039f"
             ],
             [
              0.2222222222222222,
              "#7201a8"
             ],
             [
              0.3333333333333333,
              "#9c179e"
             ],
             [
              0.4444444444444444,
              "#bd3786"
             ],
             [
              0.5555555555555556,
              "#d8576b"
             ],
             [
              0.6666666666666666,
              "#ed7953"
             ],
             [
              0.7777777777777778,
              "#fb9f3a"
             ],
             [
              0.8888888888888888,
              "#fdca26"
             ],
             [
              1,
              "#f0f921"
             ]
            ],
            "type": "heatmapgl"
           }
          ],
          "histogram": [
           {
            "marker": {
             "pattern": {
              "fillmode": "overlay",
              "size": 10,
              "solidity": 0.2
             }
            },
            "type": "histogram"
           }
          ],
          "histogram2d": [
           {
            "colorbar": {
             "outlinewidth": 0,
             "ticks": ""
            },
            "colorscale": [
             [
              0,
              "#0d0887"
             ],
             [
              0.1111111111111111,
              "#46039f"
             ],
             [
              0.2222222222222222,
              "#7201a8"
             ],
             [
              0.3333333333333333,
              "#9c179e"
             ],
             [
              0.4444444444444444,
              "#bd3786"
             ],
             [
              0.5555555555555556,
              "#d8576b"
             ],
             [
              0.6666666666666666,
              "#ed7953"
             ],
             [
              0.7777777777777778,
              "#fb9f3a"
             ],
             [
              0.8888888888888888,
              "#fdca26"
             ],
             [
              1,
              "#f0f921"
             ]
            ],
            "type": "histogram2d"
           }
          ],
          "histogram2dcontour": [
           {
            "colorbar": {
             "outlinewidth": 0,
             "ticks": ""
            },
            "colorscale": [
             [
              0,
              "#0d0887"
             ],
             [
              0.1111111111111111,
              "#46039f"
             ],
             [
              0.2222222222222222,
              "#7201a8"
             ],
             [
              0.3333333333333333,
              "#9c179e"
             ],
             [
              0.4444444444444444,
              "#bd3786"
             ],
             [
              0.5555555555555556,
              "#d8576b"
             ],
             [
              0.6666666666666666,
              "#ed7953"
             ],
             [
              0.7777777777777778,
              "#fb9f3a"
             ],
             [
              0.8888888888888888,
              "#fdca26"
             ],
             [
              1,
              "#f0f921"
             ]
            ],
            "type": "histogram2dcontour"
           }
          ],
          "mesh3d": [
           {
            "colorbar": {
             "outlinewidth": 0,
             "ticks": ""
            },
            "type": "mesh3d"
           }
          ],
          "parcoords": [
           {
            "line": {
             "colorbar": {
              "outlinewidth": 0,
              "ticks": ""
             }
            },
            "type": "parcoords"
           }
          ],
          "pie": [
           {
            "automargin": true,
            "type": "pie"
           }
          ],
          "scatter": [
           {
            "fillpattern": {
             "fillmode": "overlay",
             "size": 10,
             "solidity": 0.2
            },
            "type": "scatter"
           }
          ],
          "scatter3d": [
           {
            "line": {
             "colorbar": {
              "outlinewidth": 0,
              "ticks": ""
             }
            },
            "marker": {
             "colorbar": {
              "outlinewidth": 0,
              "ticks": ""
             }
            },
            "type": "scatter3d"
           }
          ],
          "scattercarpet": [
           {
            "marker": {
             "colorbar": {
              "outlinewidth": 0,
              "ticks": ""
             }
            },
            "type": "scattercarpet"
           }
          ],
          "scattergeo": [
           {
            "marker": {
             "colorbar": {
              "outlinewidth": 0,
              "ticks": ""
             }
            },
            "type": "scattergeo"
           }
          ],
          "scattergl": [
           {
            "marker": {
             "colorbar": {
              "outlinewidth": 0,
              "ticks": ""
             }
            },
            "type": "scattergl"
           }
          ],
          "scattermapbox": [
           {
            "marker": {
             "colorbar": {
              "outlinewidth": 0,
              "ticks": ""
             }
            },
            "type": "scattermapbox"
           }
          ],
          "scatterpolar": [
           {
            "marker": {
             "colorbar": {
              "outlinewidth": 0,
              "ticks": ""
             }
            },
            "type": "scatterpolar"
           }
          ],
          "scatterpolargl": [
           {
            "marker": {
             "colorbar": {
              "outlinewidth": 0,
              "ticks": ""
             }
            },
            "type": "scatterpolargl"
           }
          ],
          "scatterternary": [
           {
            "marker": {
             "colorbar": {
              "outlinewidth": 0,
              "ticks": ""
             }
            },
            "type": "scatterternary"
           }
          ],
          "surface": [
           {
            "colorbar": {
             "outlinewidth": 0,
             "ticks": ""
            },
            "colorscale": [
             [
              0,
              "#0d0887"
             ],
             [
              0.1111111111111111,
              "#46039f"
             ],
             [
              0.2222222222222222,
              "#7201a8"
             ],
             [
              0.3333333333333333,
              "#9c179e"
             ],
             [
              0.4444444444444444,
              "#bd3786"
             ],
             [
              0.5555555555555556,
              "#d8576b"
             ],
             [
              0.6666666666666666,
              "#ed7953"
             ],
             [
              0.7777777777777778,
              "#fb9f3a"
             ],
             [
              0.8888888888888888,
              "#fdca26"
             ],
             [
              1,
              "#f0f921"
             ]
            ],
            "type": "surface"
           }
          ],
          "table": [
           {
            "cells": {
             "fill": {
              "color": "#EBF0F8"
             },
             "line": {
              "color": "white"
             }
            },
            "header": {
             "fill": {
              "color": "#C8D4E3"
             },
             "line": {
              "color": "white"
             }
            },
            "type": "table"
           }
          ]
         },
         "layout": {
          "annotationdefaults": {
           "arrowcolor": "#2a3f5f",
           "arrowhead": 0,
           "arrowwidth": 1
          },
          "autotypenumbers": "strict",
          "coloraxis": {
           "colorbar": {
            "outlinewidth": 0,
            "ticks": ""
           }
          },
          "colorscale": {
           "diverging": [
            [
             0,
             "#8e0152"
            ],
            [
             0.1,
             "#c51b7d"
            ],
            [
             0.2,
             "#de77ae"
            ],
            [
             0.3,
             "#f1b6da"
            ],
            [
             0.4,
             "#fde0ef"
            ],
            [
             0.5,
             "#f7f7f7"
            ],
            [
             0.6,
             "#e6f5d0"
            ],
            [
             0.7,
             "#b8e186"
            ],
            [
             0.8,
             "#7fbc41"
            ],
            [
             0.9,
             "#4d9221"
            ],
            [
             1,
             "#276419"
            ]
           ],
           "sequential": [
            [
             0,
             "#0d0887"
            ],
            [
             0.1111111111111111,
             "#46039f"
            ],
            [
             0.2222222222222222,
             "#7201a8"
            ],
            [
             0.3333333333333333,
             "#9c179e"
            ],
            [
             0.4444444444444444,
             "#bd3786"
            ],
            [
             0.5555555555555556,
             "#d8576b"
            ],
            [
             0.6666666666666666,
             "#ed7953"
            ],
            [
             0.7777777777777778,
             "#fb9f3a"
            ],
            [
             0.8888888888888888,
             "#fdca26"
            ],
            [
             1,
             "#f0f921"
            ]
           ],
           "sequentialminus": [
            [
             0,
             "#0d0887"
            ],
            [
             0.1111111111111111,
             "#46039f"
            ],
            [
             0.2222222222222222,
             "#7201a8"
            ],
            [
             0.3333333333333333,
             "#9c179e"
            ],
            [
             0.4444444444444444,
             "#bd3786"
            ],
            [
             0.5555555555555556,
             "#d8576b"
            ],
            [
             0.6666666666666666,
             "#ed7953"
            ],
            [
             0.7777777777777778,
             "#fb9f3a"
            ],
            [
             0.8888888888888888,
             "#fdca26"
            ],
            [
             1,
             "#f0f921"
            ]
           ]
          },
          "colorway": [
           "#636efa",
           "#EF553B",
           "#00cc96",
           "#ab63fa",
           "#FFA15A",
           "#19d3f3",
           "#FF6692",
           "#B6E880",
           "#FF97FF",
           "#FECB52"
          ],
          "font": {
           "color": "#2a3f5f"
          },
          "geo": {
           "bgcolor": "white",
           "lakecolor": "white",
           "landcolor": "#E5ECF6",
           "showlakes": true,
           "showland": true,
           "subunitcolor": "white"
          },
          "hoverlabel": {
           "align": "left"
          },
          "hovermode": "closest",
          "mapbox": {
           "style": "light"
          },
          "paper_bgcolor": "white",
          "plot_bgcolor": "#E5ECF6",
          "polar": {
           "angularaxis": {
            "gridcolor": "white",
            "linecolor": "white",
            "ticks": ""
           },
           "bgcolor": "#E5ECF6",
           "radialaxis": {
            "gridcolor": "white",
            "linecolor": "white",
            "ticks": ""
           }
          },
          "scene": {
           "xaxis": {
            "backgroundcolor": "#E5ECF6",
            "gridcolor": "white",
            "gridwidth": 2,
            "linecolor": "white",
            "showbackground": true,
            "ticks": "",
            "zerolinecolor": "white"
           },
           "yaxis": {
            "backgroundcolor": "#E5ECF6",
            "gridcolor": "white",
            "gridwidth": 2,
            "linecolor": "white",
            "showbackground": true,
            "ticks": "",
            "zerolinecolor": "white"
           },
           "zaxis": {
            "backgroundcolor": "#E5ECF6",
            "gridcolor": "white",
            "gridwidth": 2,
            "linecolor": "white",
            "showbackground": true,
            "ticks": "",
            "zerolinecolor": "white"
           }
          },
          "shapedefaults": {
           "line": {
            "color": "#2a3f5f"
           }
          },
          "ternary": {
           "aaxis": {
            "gridcolor": "white",
            "linecolor": "white",
            "ticks": ""
           },
           "baxis": {
            "gridcolor": "white",
            "linecolor": "white",
            "ticks": ""
           },
           "bgcolor": "#E5ECF6",
           "caxis": {
            "gridcolor": "white",
            "linecolor": "white",
            "ticks": ""
           }
          },
          "title": {
           "x": 0.05
          },
          "xaxis": {
           "automargin": true,
           "gridcolor": "white",
           "linecolor": "white",
           "ticks": "",
           "title": {
            "standoff": 15
           },
           "zerolinecolor": "white",
           "zerolinewidth": 2
          },
          "yaxis": {
           "automargin": true,
           "gridcolor": "white",
           "linecolor": "white",
           "ticks": "",
           "title": {
            "standoff": 15
           },
           "zerolinecolor": "white",
           "zerolinewidth": 2
          }
         }
        },
        "title": {
         "font": {
          "color": "blue"
         },
         "text": "First Order Differencing of NDVI"
        },
        "width": 1000,
        "xaxis": {
         "title": {
          "text": "Date"
         }
        },
        "yaxis": {
         "title": {
          "text": "NDVI Difference"
         }
        }
       }
      }
     },
     "metadata": {},
     "output_type": "display_data"
    },
    {
     "name": "stdout",
     "output_type": "stream",
     "text": [
      "ADF Statistic: -14.703100631881048\n",
      "p-value: 2.925683226948041e-27\n"
     ]
    }
   ],
   "source": [
    "from statsmodels.tsa.stattools import adfuller\n",
    "\n",
    "ndvi_df['ndvi_diff'] = ndvi_df['ndvi'].diff()\n",
    "\n",
    "def plot_ndvi_diff(df, title='First Order Differencing of NDVI'):\n",
    "    \"\"\"Plot NDVI first-order difference over time given a DataFrame.\n",
    "\n",
    "    Args:\n",
    "    df (pandas.DataFrame): DataFrame containing 'date' and 'ndvi_diff' columns.\n",
    "    title (str): Title of the plot. Defaults to 'First Order Differencing of NDVI'.\n",
    "    \"\"\"\n",
    "    fig = plotly.graph_objects.Figure()\n",
    "\n",
    "    fig.add_trace(\n",
    "        plotly.graph_objects.Scatter(\n",
    "            x=df.index, \n",
    "            y=df['ndvi_diff'], \n",
    "            mode='lines+markers',\n",
    "            line=dict(color='blue'), \n",
    "            marker=dict(color='blue')\n",
    "        )\n",
    "    )\n",
    "    \n",
    "    fig.update_layout(\n",
    "        title={'text': title, 'font': {'color': 'blue'}},\n",
    "        xaxis_title=\"Date\",\n",
    "        yaxis_title=\"NDVI Difference\",\n",
    "        autosize=False,\n",
    "        width=1000,\n",
    "        height=600,\n",
    "    )\n",
    "    \n",
    "    fig.show()\n",
    "\n",
    "plot_ndvi_diff(ndvi_df)\n",
    "\n",
    "result = adfuller(ndvi_df['ndvi_diff'].dropna())\n",
    "print(f'ADF Statistic: {result[0]}')\n",
    "print(f'p-value: {result[1]}')\n"
   ]
  },
  {
   "cell_type": "markdown",
   "metadata": {},
   "source": [
    "From the plot, you can see if the differencing made the data appear more stationary. Ideally, we would see a series that fluctuates around a clearly defined mean (horizontal line), with constant variance (the fluctuations have roughly the same amplitude throughout). If it seems like the plot has no trend (upward or downward over time), then it indicates that the series is stationary.\n",
    "\n",
    "Why is this important? Many forecasting methods assume that the data is stationary, and if it isn't, we can transform it until it is. So it's a crucial step for accurate forecasting.\n",
    "\n",
    "To test for stationarity, we use the **Augmented Dickey-Fuller test**. This test has a null hypothesis that the time series is *non-stationary*.\n",
    "\n",
    "Our ADF test returned a statistic of -14.7 and a p-value of 2.9e-27. The p-value is practically at zero, and far below our typical 0.05 threshold. We've got a stationary time series on our hands!\n",
    "\n",
    "Now we're all set to move to the next stage of our analysis: time series forecasting. Buckle up!"
   ]
  },
  {
   "cell_type": "markdown",
   "metadata": {},
   "source": [
    "<h2 style=\"color:violet;\">Embarking on the LSTM Journey </h2>\n",
    "\n",
    "Embark on a journey with us as we explore the intricate world of LSTM (Long Short Term Memory) models and their application in time series forecasting of vegetation health.\n",
    "\n",
    "#### The Odyssey of Data Preprocessing 📚\n",
    "- Our first step in this journey involved preparing our data for the LSTM model. \n",
    "- The 'ndvi' values, acting as our guides, were converted into floating point numbers. They were then reshaped and normalized to fall between 0 and 1, just as our LSTM model likes.\n",
    "\n",
    "#### Splitting the Path - Training and Testing 🧭\n",
    "- We then split our journey into two paths - one for training our LSTM model and the other for testing its forecasting prowess. \n",
    "- About 67% of our guides embarked on the training path, leaving the remaining 33% for the testing path.\n",
    "\n",
    "#### Transforming the Guides - Dataset Matrix 🛠️\n",
    "- Our guides underwent a transformation, emerging as a dataset matrix. \n",
    "- This transformation helped our LSTM model understand the sequential dependencies in the data, allowing it to read the patterns in our vegetation's health story.\n",
    "\n",
    "#### Building and Training LSTM - The Storyteller 🎓\n",
    "- We then introduced our main companion for this journey - the LSTM model. \n",
    "- Trained on our data, LSTM began to understand the intricate patterns and sequences in our vegetation's health story.\n",
    "\n",
    "#### Testing LSTM's Storytelling Skills - Predictions and Evaluation 📝\n",
    "- Now came the moment of truth. Our LSTM model began to tell its own version of the story, making predictions on both the training and testing data. \n",
    "- We evaluated LSTM's storytelling skills using the Root Mean Squared Error (RMSE) measure.\n",
    "\n",
    "#### Visualizing the Tale - Data Visualization 🌈\n",
    "- Finally, we listened to LSTM's tale, visualized in the form of a plot. \n",
    "- The plot, overlaid on the original data, showed us how LSTM's story lined up with the actual tale of our vegetation's health.\n",
    "\n",
    "#### The Art of LSTM's Storytelling 🎭\n",
    "- Remember, LSTM, like many deep learning models, thrives on longer narratives. The more data we provide, the better it becomes at storytelling. \n",
    "- Despite our limited dataset, LSTM's tale closely echoed our data's story, showing its potential in learning and predicting the intricate tales of vegetation health.\n",
    "\n",
    "Come, let's listen to the tales of LSTM, as it navigates through the intricate patterns in our data, weaving a fascinating story of vegetation health. 🍃🌿"
   ]
  },
  {
   "cell_type": "code",
   "execution_count": 8,
   "metadata": {},
   "outputs": [
    {
     "name": "stderr",
     "output_type": "stream",
     "text": [
      "2023-07-18 11:29:58.988006: I tensorflow/core/platform/cpu_feature_guard.cc:182] This TensorFlow binary is optimized to use available CPU instructions in performance-critical operations.\n",
      "To enable the following instructions: AVX2 FMA, in other operations, rebuild TensorFlow with the appropriate compiler flags.\n"
     ]
    }
   ],
   "source": [
    "from keras.models import Sequential\n",
    "from keras.layers import Dense\n",
    "from keras.layers import LSTM\n",
    "from sklearn.preprocessing import MinMaxScaler\n",
    "from sklearn.metrics import mean_squared_error\n",
    "import math\n",
    "\n",
    "def prepare_ndvi_data(ndvi_df):\n",
    "    \"\"\"Prepares NDVI data for LSTM model.\n",
    "\n",
    "    Args:\n",
    "        ndvi_df (pandas.DataFrame): The DataFrame containing 'ndvi' values.\n",
    "\n",
    "    Returns:\n",
    "        tuple: normalized NDVI values and the scaler used for normalization.\n",
    "    \"\"\"\n",
    "    # Getting the 'ndvi' values and convert them to floating point numbers\n",
    "    ndvi_values = ndvi_df['ndvi'].values.astype('float32')\n",
    "\n",
    "    # Reshaping the data to meet the requirements of the LSTM model\n",
    "    ndvi_values = ndvi_values.reshape((-1, 1))\n",
    "\n",
    "    # Normalizing the 'ndvi' values to be between 0 and 1\n",
    "    scaler                 = MinMaxScaler(feature_range=(0, 1))\n",
    "    normalized_ndvi_values = scaler.fit_transform(ndvi_values)\n",
    "\n",
    "    return normalized_ndvi_values, scaler\n",
    "\n",
    "\n",
    "def split_data(normalized_ndvi_values, split_ratio=0.67):\n",
    "    \"\"\"Splits data into training and testing sets.\n",
    "\n",
    "    Args:\n",
    "        normalized_ndvi_values (numpy.ndarray): Normalized NDVI values.\n",
    "        split_ratio (float): Ratio of the dataset to include in the train split.\n",
    "\n",
    "    Returns:\n",
    "        tuple: train data and test data.\n",
    "    \"\"\"\n",
    "    # Splitting the data into training and testing sets\n",
    "    train_size            = int(len(normalized_ndvi_values) * split_ratio)\n",
    "    train_data, test_data = normalized_ndvi_values[0:train_size, :], normalized_ndvi_values[train_size: len(normalized_ndvi_values), :]\n",
    "\n",
    "    return train_data, test_data\n",
    "\n",
    "\n",
    "def create_dataset(dataset, look_back=1):\n",
    "    \"\"\"Converts an array of values into a dataset matrix.\n",
    "\n",
    "    Args:\n",
    "        dataset (numpy.ndarray): Dataset to convert.\n",
    "        look_back (int): Number of previous time steps to use as input variables to predict the next time period.\n",
    "\n",
    "    Returns:\n",
    "        tuple: Input and output parts of the created dataset.\n",
    "    \"\"\"\n",
    "    # Create empty lists to hold the input (X) and output (Y) data\n",
    "    data_x, data_y = [], []\n",
    "\n",
    "    # Loop over the dataset and create windows of length `look_back`\n",
    "    for i in range(len(dataset) - look_back - 1):\n",
    "        # Create a window of `look_back` elements starting from position `i`\n",
    "        ndvi_window = dataset[i: (i + look_back), 0]\n",
    "        \n",
    "        # Append this window to the input data\n",
    "        data_x.append(ndvi_window)\n",
    "        \n",
    "        # Append the corresponding target value (the next 'ndvi' value after the window) to the output data\n",
    "        data_y.append(dataset[i + look_back, 0])\n",
    "\n",
    "    # Convert the lists into numpy arrays before returning\n",
    "    return numpy.array(data_x), numpy.array(data_y)\n",
    "\n",
    "\n",
    "\n",
    "def build_and_train_model(train_x, train_y, look_back=1, epochs=100, batch_size=1):\n",
    "    \"\"\"Builds and trains the LSTM network.\n",
    "\n",
    "    Args:\n",
    "        train_x (numpy.ndarray): Input part of the training dataset.\n",
    "        train_y (numpy.ndarray): Output part of the training dataset.\n",
    "        look_back (int): Number of previous time steps to use as input variables to predict the next time period.\n",
    "        epochs (int): Number of epochs to train the model for.\n",
    "        batch_size (int): Number of samples per gradient update.\n",
    "\n",
    "    Returns:\n",
    "        keras.models.Sequential: Trained LSTM model.\n",
    "    \"\"\"\n",
    "    model = Sequential()\n",
    "    \n",
    "    model.add(LSTM(4, input_shape=(1, look_back)))\n",
    "    model.add(Dense(1))\n",
    "    model.compile(loss='mean_squared_error', optimizer='adam')\n",
    "    model.fit(train_x, train_y, epochs=epochs, batch_size=batch_size, verbose=2)\n",
    "\n",
    "    return model"
   ]
  },
  {
   "cell_type": "code",
   "execution_count": 9,
   "metadata": {},
   "outputs": [
    {
     "name": "stdout",
     "output_type": "stream",
     "text": [
      "Epoch 1/100\n",
      "42/42 - 2s - loss: 0.6230 - 2s/epoch - 45ms/step\n",
      "Epoch 2/100\n",
      "42/42 - 0s - loss: 0.4904 - 48ms/epoch - 1ms/step\n",
      "Epoch 3/100\n",
      "42/42 - 0s - loss: 0.3839 - 48ms/epoch - 1ms/step\n",
      "Epoch 4/100\n",
      "42/42 - 0s - loss: 0.2933 - 46ms/epoch - 1ms/step\n",
      "Epoch 5/100\n",
      "42/42 - 0s - loss: 0.2205 - 44ms/epoch - 1ms/step\n",
      "Epoch 6/100\n",
      "42/42 - 0s - loss: 0.1637 - 43ms/epoch - 1ms/step\n",
      "Epoch 7/100\n",
      "42/42 - 0s - loss: 0.1206 - 42ms/epoch - 1ms/step\n",
      "Epoch 8/100\n",
      "42/42 - 0s - loss: 0.0911 - 45ms/epoch - 1ms/step\n",
      "Epoch 9/100\n",
      "42/42 - 0s - loss: 0.0736 - 50ms/epoch - 1ms/step\n",
      "Epoch 10/100\n",
      "42/42 - 0s - loss: 0.0625 - 43ms/epoch - 1ms/step\n",
      "Epoch 11/100\n",
      "42/42 - 0s - loss: 0.0576 - 42ms/epoch - 1ms/step\n",
      "Epoch 12/100\n",
      "42/42 - 0s - loss: 0.0548 - 44ms/epoch - 1ms/step\n",
      "Epoch 13/100\n",
      "42/42 - 0s - loss: 0.0535 - 44ms/epoch - 1ms/step\n",
      "Epoch 14/100\n",
      "42/42 - 0s - loss: 0.0534 - 52ms/epoch - 1ms/step\n",
      "Epoch 15/100\n",
      "42/42 - 0s - loss: 0.0528 - 44ms/epoch - 1ms/step\n",
      "Epoch 16/100\n",
      "42/42 - 0s - loss: 0.0525 - 45ms/epoch - 1ms/step\n",
      "Epoch 17/100\n",
      "42/42 - 0s - loss: 0.0525 - 48ms/epoch - 1ms/step\n",
      "Epoch 18/100\n",
      "42/42 - 0s - loss: 0.0524 - 55ms/epoch - 1ms/step\n",
      "Epoch 19/100\n",
      "42/42 - 0s - loss: 0.0530 - 48ms/epoch - 1ms/step\n",
      "Epoch 20/100\n",
      "42/42 - 0s - loss: 0.0526 - 43ms/epoch - 1ms/step\n",
      "Epoch 21/100\n",
      "42/42 - 0s - loss: 0.0524 - 48ms/epoch - 1ms/step\n",
      "Epoch 22/100\n",
      "42/42 - 0s - loss: 0.0526 - 49ms/epoch - 1ms/step\n",
      "Epoch 23/100\n",
      "42/42 - 0s - loss: 0.0526 - 47ms/epoch - 1ms/step\n",
      "Epoch 24/100\n",
      "42/42 - 0s - loss: 0.0523 - 46ms/epoch - 1ms/step\n",
      "Epoch 25/100\n",
      "42/42 - 0s - loss: 0.0526 - 50ms/epoch - 1ms/step\n",
      "Epoch 26/100\n",
      "42/42 - 0s - loss: 0.0524 - 49ms/epoch - 1ms/step\n",
      "Epoch 27/100\n",
      "42/42 - 0s - loss: 0.0525 - 44ms/epoch - 1ms/step\n",
      "Epoch 28/100\n",
      "42/42 - 0s - loss: 0.0525 - 47ms/epoch - 1ms/step\n",
      "Epoch 29/100\n",
      "42/42 - 0s - loss: 0.0523 - 48ms/epoch - 1ms/step\n",
      "Epoch 30/100\n",
      "42/42 - 0s - loss: 0.0526 - 43ms/epoch - 1ms/step\n",
      "Epoch 31/100\n",
      "42/42 - 0s - loss: 0.0525 - 47ms/epoch - 1ms/step\n",
      "Epoch 32/100\n",
      "42/42 - 0s - loss: 0.0523 - 48ms/epoch - 1ms/step\n",
      "Epoch 33/100\n",
      "42/42 - 0s - loss: 0.0523 - 49ms/epoch - 1ms/step\n",
      "Epoch 34/100\n",
      "42/42 - 0s - loss: 0.0525 - 49ms/epoch - 1ms/step\n",
      "Epoch 35/100\n",
      "42/42 - 0s - loss: 0.0530 - 53ms/epoch - 1ms/step\n",
      "Epoch 36/100\n",
      "42/42 - 0s - loss: 0.0526 - 46ms/epoch - 1ms/step\n",
      "Epoch 37/100\n",
      "42/42 - 0s - loss: 0.0523 - 49ms/epoch - 1ms/step\n",
      "Epoch 38/100\n",
      "42/42 - 0s - loss: 0.0523 - 53ms/epoch - 1ms/step\n",
      "Epoch 39/100\n",
      "42/42 - 0s - loss: 0.0531 - 63ms/epoch - 1ms/step\n",
      "Epoch 40/100\n",
      "42/42 - 0s - loss: 0.0520 - 47ms/epoch - 1ms/step\n",
      "Epoch 41/100\n",
      "42/42 - 0s - loss: 0.0526 - 51ms/epoch - 1ms/step\n",
      "Epoch 42/100\n",
      "42/42 - 0s - loss: 0.0521 - 47ms/epoch - 1ms/step\n",
      "Epoch 43/100\n",
      "42/42 - 0s - loss: 0.0524 - 46ms/epoch - 1ms/step\n",
      "Epoch 44/100\n",
      "42/42 - 0s - loss: 0.0523 - 45ms/epoch - 1ms/step\n",
      "Epoch 45/100\n",
      "42/42 - 0s - loss: 0.0524 - 47ms/epoch - 1ms/step\n",
      "Epoch 46/100\n",
      "42/42 - 0s - loss: 0.0523 - 43ms/epoch - 1ms/step\n",
      "Epoch 47/100\n",
      "42/42 - 0s - loss: 0.0521 - 45ms/epoch - 1ms/step\n",
      "Epoch 48/100\n",
      "42/42 - 0s - loss: 0.0521 - 124ms/epoch - 3ms/step\n",
      "Epoch 49/100\n",
      "42/42 - 0s - loss: 0.0523 - 56ms/epoch - 1ms/step\n",
      "Epoch 50/100\n",
      "42/42 - 0s - loss: 0.0522 - 53ms/epoch - 1ms/step\n",
      "Epoch 51/100\n",
      "42/42 - 0s - loss: 0.0523 - 54ms/epoch - 1ms/step\n",
      "Epoch 52/100\n",
      "42/42 - 0s - loss: 0.0522 - 56ms/epoch - 1ms/step\n",
      "Epoch 53/100\n",
      "42/42 - 0s - loss: 0.0528 - 59ms/epoch - 1ms/step\n",
      "Epoch 54/100\n",
      "42/42 - 0s - loss: 0.0522 - 51ms/epoch - 1ms/step\n",
      "Epoch 55/100\n",
      "42/42 - 0s - loss: 0.0523 - 47ms/epoch - 1ms/step\n",
      "Epoch 56/100\n",
      "42/42 - 0s - loss: 0.0522 - 44ms/epoch - 1ms/step\n",
      "Epoch 57/100\n",
      "42/42 - 0s - loss: 0.0521 - 45ms/epoch - 1ms/step\n",
      "Epoch 58/100\n",
      "42/42 - 0s - loss: 0.0521 - 45ms/epoch - 1ms/step\n",
      "Epoch 59/100\n",
      "42/42 - 0s - loss: 0.0522 - 42ms/epoch - 1ms/step\n",
      "Epoch 60/100\n",
      "42/42 - 0s - loss: 0.0525 - 43ms/epoch - 1ms/step\n",
      "Epoch 61/100\n",
      "42/42 - 0s - loss: 0.0523 - 44ms/epoch - 1ms/step\n",
      "Epoch 62/100\n",
      "42/42 - 0s - loss: 0.0521 - 42ms/epoch - 1ms/step\n",
      "Epoch 63/100\n",
      "42/42 - 0s - loss: 0.0525 - 45ms/epoch - 1ms/step\n",
      "Epoch 64/100\n",
      "42/42 - 0s - loss: 0.0527 - 43ms/epoch - 1ms/step\n",
      "Epoch 65/100\n",
      "42/42 - 0s - loss: 0.0523 - 43ms/epoch - 1ms/step\n",
      "Epoch 66/100\n",
      "42/42 - 0s - loss: 0.0520 - 43ms/epoch - 1ms/step\n",
      "Epoch 67/100\n",
      "42/42 - 0s - loss: 0.0526 - 43ms/epoch - 1ms/step\n",
      "Epoch 68/100\n",
      "42/42 - 0s - loss: 0.0521 - 43ms/epoch - 1ms/step\n",
      "Epoch 69/100\n",
      "42/42 - 0s - loss: 0.0519 - 43ms/epoch - 1ms/step\n",
      "Epoch 70/100\n",
      "42/42 - 0s - loss: 0.0519 - 43ms/epoch - 1ms/step\n",
      "Epoch 71/100\n",
      "42/42 - 0s - loss: 0.0519 - 42ms/epoch - 1ms/step\n",
      "Epoch 72/100\n",
      "42/42 - 0s - loss: 0.0523 - 43ms/epoch - 1ms/step\n",
      "Epoch 73/100\n",
      "42/42 - 0s - loss: 0.0524 - 43ms/epoch - 1ms/step\n",
      "Epoch 74/100\n",
      "42/42 - 0s - loss: 0.0520 - 44ms/epoch - 1ms/step\n",
      "Epoch 75/100\n",
      "42/42 - 0s - loss: 0.0524 - 45ms/epoch - 1ms/step\n",
      "Epoch 76/100\n",
      "42/42 - 0s - loss: 0.0522 - 44ms/epoch - 1ms/step\n",
      "Epoch 77/100\n",
      "42/42 - 0s - loss: 0.0523 - 43ms/epoch - 1ms/step\n",
      "Epoch 78/100\n",
      "42/42 - 0s - loss: 0.0529 - 43ms/epoch - 1ms/step\n",
      "Epoch 79/100\n",
      "42/42 - 0s - loss: 0.0520 - 44ms/epoch - 1ms/step\n",
      "Epoch 80/100\n",
      "42/42 - 0s - loss: 0.0528 - 45ms/epoch - 1ms/step\n",
      "Epoch 81/100\n",
      "42/42 - 0s - loss: 0.0522 - 43ms/epoch - 1ms/step\n",
      "Epoch 82/100\n",
      "42/42 - 0s - loss: 0.0521 - 43ms/epoch - 1ms/step\n",
      "Epoch 83/100\n",
      "42/42 - 0s - loss: 0.0524 - 43ms/epoch - 1ms/step\n",
      "Epoch 84/100\n",
      "42/42 - 0s - loss: 0.0526 - 42ms/epoch - 1ms/step\n",
      "Epoch 85/100\n",
      "42/42 - 0s - loss: 0.0524 - 44ms/epoch - 1ms/step\n",
      "Epoch 86/100\n",
      "42/42 - 0s - loss: 0.0523 - 44ms/epoch - 1ms/step\n",
      "Epoch 87/100\n",
      "42/42 - 0s - loss: 0.0524 - 45ms/epoch - 1ms/step\n",
      "Epoch 88/100\n",
      "42/42 - 0s - loss: 0.0521 - 44ms/epoch - 1ms/step\n",
      "Epoch 89/100\n",
      "42/42 - 0s - loss: 0.0522 - 43ms/epoch - 1ms/step\n",
      "Epoch 90/100\n",
      "42/42 - 0s - loss: 0.0520 - 43ms/epoch - 1ms/step\n",
      "Epoch 91/100\n",
      "42/42 - 0s - loss: 0.0525 - 50ms/epoch - 1ms/step\n",
      "Epoch 92/100\n",
      "42/42 - 0s - loss: 0.0520 - 43ms/epoch - 1ms/step\n",
      "Epoch 93/100\n",
      "42/42 - 0s - loss: 0.0522 - 44ms/epoch - 1ms/step\n",
      "Epoch 94/100\n",
      "42/42 - 0s - loss: 0.0522 - 52ms/epoch - 1ms/step\n",
      "Epoch 95/100\n",
      "42/42 - 0s - loss: 0.0519 - 44ms/epoch - 1ms/step\n",
      "Epoch 96/100\n",
      "42/42 - 0s - loss: 0.0521 - 46ms/epoch - 1ms/step\n",
      "Epoch 97/100\n",
      "42/42 - 0s - loss: 0.0519 - 43ms/epoch - 1ms/step\n",
      "Epoch 98/100\n",
      "42/42 - 0s - loss: 0.0521 - 44ms/epoch - 1ms/step\n",
      "Epoch 99/100\n",
      "42/42 - 0s - loss: 0.0523 - 43ms/epoch - 1ms/step\n",
      "Epoch 100/100\n",
      "42/42 - 0s - loss: 0.0529 - 45ms/epoch - 1ms/step\n"
     ]
    }
   ],
   "source": [
    "normalized_ndvi_values, scaler = prepare_ndvi_data(ndvi_df)\n",
    "train_data, test_data          = split_data(normalized_ndvi_values)\n",
    "train_x, train_y               = create_dataset(train_data)\n",
    "model                          = build_and_train_model(train_x, train_y, epochs=100)\n"
   ]
  },
  {
   "cell_type": "code",
   "execution_count": 10,
   "metadata": {},
   "outputs": [],
   "source": [
    "def make_predictions(model, train_x, test_x, train_y, test_y, scaler):\n",
    "    # Using the model to make predictions on the train and test datasets\n",
    "    train_predictions = model.predict(train_x)\n",
    "    test_predictions  = model.predict(test_x)\n",
    "\n",
    "    # Reverting the normalization of the predictions\n",
    "    # This is done to get the predictions in the same scale as the original data\n",
    "    train_predictions = scaler.inverse_transform(train_predictions)\n",
    "    train_y           = scaler.inverse_transform([train_y])\n",
    "    test_predictions  = scaler.inverse_transform(test_predictions)\n",
    "    test_y            = scaler.inverse_transform([test_y])\n",
    "\n",
    "    return train_predictions, test_predictions, train_y, test_y\n",
    "\n",
    "\n",
    "def calculate_rmse(real, predicted):\n",
    "    \"\"\"Calculates the Root Mean Squared Error (RMSE) between real and predicted values.\n",
    "\n",
    "    Args:\n",
    "        real (numpy.ndarray): Real values.\n",
    "        predicted (numpy.ndarray): Predicted values.\n",
    "\n",
    "    Returns:\n",
    "        float: The RMSE between real and predicted values.\n",
    "    \"\"\"\n",
    "    return math.sqrt(mean_squared_error(real, predicted))\n"
   ]
  },
  {
   "cell_type": "code",
   "execution_count": 11,
   "metadata": {},
   "outputs": [
    {
     "name": "stdout",
     "output_type": "stream",
     "text": [
      "2/2 [==============================] - 0s 2ms/step\n",
      "1/1 [==============================] - 0s 18ms/step\n",
      "Train Score: 0.02 RMSE\n",
      "Test Score: 0.01 RMSE\n"
     ]
    }
   ],
   "source": [
    "test_x, test_y = create_dataset(test_data)\n",
    "\n",
    "train_predictions, test_predictions, train_y, test_y = make_predictions(model, train_x, test_x, train_y, test_y, scaler)\n",
    "\n",
    "train_score = calculate_rmse(train_y[0], train_predictions[:,0])\n",
    "test_score  = calculate_rmse(test_y[0], test_predictions[:,0])\n",
    "\n",
    "print('Train Score: %.2f RMSE' % (train_score))\n",
    "print('Test Score: %.2f RMSE' % (test_score))"
   ]
  },
  {
   "cell_type": "code",
   "execution_count": 12,
   "metadata": {},
   "outputs": [],
   "source": [
    "def prepare_plotting_arrays(ndvi_df, train_predictions, test_predictions, look_back=1):\n",
    "    \"\"\"Prepares the plotting arrays for original and predicted values.\n",
    "\n",
    "    Args:\n",
    "        ndvi_df (pandas.DataFrame): DataFrame containing 'ndvi' values.\n",
    "        train_predictions (numpy.ndarray): Predictions on the training data.\n",
    "        test_predictions (numpy.ndarray): Predictions on the testing data.\n",
    "        look_back (int): Number of previous time steps to use as input variables to predict the next time period.\n",
    "\n",
    "    Returns:\n",
    "        tuple: Dates and corresponding predictions for training and testing data.\n",
    "    \"\"\"\n",
    "    # Prepare dates for the training and testing data\n",
    "    train_dates = ndvi_df.index[look_back:len(train_predictions)+look_back]\n",
    "    test_dates  = ndvi_df.index[len(train_predictions) + (look_back*2) + 1:len(ndvi_df) - 1]\n",
    "    \n",
    "    # Flatten the prediction arrays and replace 'nan' values with 'None' for better handling in Plotly\n",
    "    train_predictions = [None if numpy.isnan(x) else x for x in train_predictions.flatten()]\n",
    "    test_predictions  = [None if numpy.isnan(x) else x for x in test_predictions.flatten()]\n",
    "\n",
    "    return train_dates, train_predictions, test_dates, test_predictions\n",
    "\n",
    "\n",
    "def plot_predictions(ndvi_df, train_dates, train_predictions, test_dates, test_predictions, scaler):\n",
    "    \"\"\"Plots the original data and the predictions.\n",
    "\n",
    "    Args:\n",
    "        ndvi_df (pandas.DataFrame): DataFrame containing 'ndvi' values.\n",
    "        train_dates (pandas.DatetimeIndex): Dates for the training predictions.\n",
    "        train_predictions (list): Predictions on the training data.\n",
    "        test_dates (pandas.DatetimeIndex): Dates for the testing predictions.\n",
    "        test_predictions (list): Predictions on the testing data.\n",
    "        scaler (sklearn.preprocessing.MinMaxScaler): Scaler used for normalizing 'ndvi' values.\n",
    "\n",
    "    Returns:\n",
    "        None\n",
    "    \"\"\"\n",
    "    fig = plotly.graph_objects.Figure()\n",
    "\n",
    "    # Plotting the original data\n",
    "    fig.add_trace(\n",
    "        plotly.graph_objects.Scatter(\n",
    "            x=ndvi_df.index, \n",
    "            y=scaler.inverse_transform(normalized_ndvi_values).flatten(), \n",
    "            mode='lines',\n",
    "            name='Original Data'\n",
    "        )\n",
    "    )\n",
    "\n",
    "    # Plotting the training predictions\n",
    "    fig.add_trace(\n",
    "        plotly.graph_objects.Scatter(\n",
    "            x=train_dates, \n",
    "            y=train_predictions, \n",
    "            mode='lines',\n",
    "            name='Training Predictions',\n",
    "            line=dict(color='green')\n",
    "        )\n",
    "    )\n",
    "\n",
    "    # Plotting the testing predictions\n",
    "    fig.add_trace(\n",
    "        plotly.graph_objects.Scatter(\n",
    "            x=test_dates, \n",
    "            y=test_predictions, \n",
    "            mode='lines',\n",
    "            name='Testing Predictions',\n",
    "            line=dict(color='violet')\n",
    "        )\n",
    "    )\n",
    "\n",
    "    fig.update_layout(\n",
    "        title='NDVI Over Time',\n",
    "        xaxis_title=\"Date\",\n",
    "        yaxis_title=\"Normalized NDVI\",\n",
    "        autosize=False,\n",
    "        width=800,\n",
    "        height=500,\n",
    "    )\n",
    "    \n",
    "    fig.show()"
   ]
  },
  {
   "cell_type": "code",
   "execution_count": 13,
   "metadata": {},
   "outputs": [
    {
     "data": {
      "application/vnd.plotly.v1+json": {
       "config": {
        "plotlyServerURL": "https://plot.ly"
       },
       "data": [
        {
         "mode": "lines",
         "name": "Original Data",
         "type": "scatter",
         "x": [
          "2008-09-17T00:00:00",
          "2008-09-24T00:00:00",
          "2008-10-10T00:00:00",
          "2008-10-19T00:00:00",
          "2008-10-26T00:00:00",
          "2008-11-11T00:00:00",
          "2008-12-29T00:00:00",
          "2009-01-14T00:00:00",
          "2009-01-30T00:00:00",
          "2009-04-04T00:00:00",
          "2009-04-20T00:00:00",
          "2009-05-06T00:00:00",
          "2009-06-07T00:00:00",
          "2009-07-09T00:00:00",
          "2009-08-10T00:00:00",
          "2009-08-26T00:00:00",
          "2009-09-11T00:00:00",
          "2009-09-20T00:00:00",
          "2009-09-27T00:00:00",
          "2009-10-13T00:00:00",
          "2009-10-22T00:00:00",
          "2010-02-18T00:00:00",
          "2010-03-15T00:00:00",
          "2010-03-22T00:00:00",
          "2010-04-07T00:00:00",
          "2010-05-25T00:00:00",
          "2010-06-03T00:00:00",
          "2010-06-10T00:00:00",
          "2010-06-19T00:00:00",
          "2010-06-26T00:00:00",
          "2010-07-05T00:00:00",
          "2010-07-12T00:00:00",
          "2010-08-13T00:00:00",
          "2010-08-22T00:00:00",
          "2010-09-14T00:00:00",
          "2010-09-23T00:00:00",
          "2010-09-30T00:00:00",
          "2010-10-09T00:00:00",
          "2010-10-16T00:00:00",
          "2010-11-01T00:00:00",
          "2010-11-10T00:00:00",
          "2010-11-17T00:00:00",
          "2011-01-04T00:00:00",
          "2011-01-20T00:00:00",
          "2011-02-14T00:00:00",
          "2011-02-21T00:00:00",
          "2011-03-02T00:00:00",
          "2011-03-09T00:00:00",
          "2011-03-25T00:00:00",
          "2011-04-03T00:00:00",
          "2011-04-10T00:00:00",
          "2011-04-26T00:00:00",
          "2011-05-05T00:00:00",
          "2011-05-12T00:00:00",
          "2011-05-21T00:00:00",
          "2011-05-28T00:00:00",
          "2011-06-06T00:00:00",
          "2011-06-13T00:00:00",
          "2011-06-22T00:00:00",
          "2011-06-29T00:00:00",
          "2011-07-15T00:00:00",
          "2011-09-01T00:00:00",
          "2011-09-10T00:00:00",
          "2011-09-17T00:00:00",
          "2011-10-19T00:00:00",
          "2011-10-28T00:00:00"
         ],
         "y": [
          -0.0002309486153535545,
          0.03647244721651077,
          0.039754558354616165,
          0.017113080248236656,
          0.04377400130033493,
          0.04018649831414223,
          0.038189876824617386,
          0.037444982677698135,
          0.03363639861345291,
          0.05359318479895592,
          0.05828127637505531,
          0.05640058219432831,
          0.052899621427059174,
          0.05952772870659828,
          0.057413358241319656,
          0.054084304720163345,
          0.046370942145586014,
          0.032525643706321716,
          0.05602869763970375,
          0.041728176176548004,
          0.04116973280906677,
          0.034827105700969696,
          0.0016668080352246761,
          -0.010102348402142525,
          0.014978105202317238,
          0.04113132506608963,
          0.020243940874934196,
          0.033473651856184006,
          0.025737345218658447,
          0.04398099333047867,
          0.026764152571558952,
          0.03888365253806114,
          0.0513005405664444,
          0.00588318333029747,
          0.052720215171575546,
          -0.0032375177834182978,
          0.04537871479988098,
          0.02890765853226185,
          0.05344773083925247,
          0.057959362864494324,
          0.03647056594491005,
          0.057682715356349945,
          0.051498256623744965,
          0.05965684726834297,
          0.049995556473731995,
          0.016138028353452682,
          0.03934207931160927,
          0.04973229765892029,
          0.05240081995725632,
          0.04479135945439339,
          0.048955466598272324,
          0.05712425336241722,
          0.04849123954772949,
          0.05888073891401291,
          0.05175945907831192,
          0.060173213481903076,
          0.05644621327519417,
          0.0636381283402443,
          0.052820805460214615,
          0.05447915941476822,
          0.059986263513565063,
          0.04908569157123566,
          0.02888021431863308,
          0.04951519891619682,
          0.048709385097026825,
          0.030760249122977257
         ]
        },
        {
         "line": {
          "color": "green"
         },
         "mode": "lines",
         "name": "Training Predictions",
         "type": "scatter",
         "x": [
          "2008-09-24T00:00:00",
          "2008-10-10T00:00:00",
          "2008-10-19T00:00:00",
          "2008-10-26T00:00:00",
          "2008-11-11T00:00:00",
          "2008-12-29T00:00:00",
          "2009-01-14T00:00:00",
          "2009-01-30T00:00:00",
          "2009-04-04T00:00:00",
          "2009-04-20T00:00:00",
          "2009-05-06T00:00:00",
          "2009-06-07T00:00:00",
          "2009-07-09T00:00:00",
          "2009-08-10T00:00:00",
          "2009-08-26T00:00:00",
          "2009-09-11T00:00:00",
          "2009-09-20T00:00:00",
          "2009-09-27T00:00:00",
          "2009-10-13T00:00:00",
          "2009-10-22T00:00:00",
          "2010-02-18T00:00:00",
          "2010-03-15T00:00:00",
          "2010-03-22T00:00:00",
          "2010-04-07T00:00:00",
          "2010-05-25T00:00:00",
          "2010-06-03T00:00:00",
          "2010-06-10T00:00:00",
          "2010-06-19T00:00:00",
          "2010-06-26T00:00:00",
          "2010-07-05T00:00:00",
          "2010-07-12T00:00:00",
          "2010-08-13T00:00:00",
          "2010-08-22T00:00:00",
          "2010-09-14T00:00:00",
          "2010-09-23T00:00:00",
          "2010-09-30T00:00:00",
          "2010-10-09T00:00:00",
          "2010-10-16T00:00:00",
          "2010-11-01T00:00:00",
          "2010-11-10T00:00:00",
          "2010-11-17T00:00:00",
          "2011-01-04T00:00:00"
         ],
         "y": [
          0.0305771604180336,
          0.038139838725328445,
          0.03887326270341873,
          0.033976443111896515,
          0.03977939859032631,
          0.03897023946046829,
          0.038522835820913315,
          0.03835650160908699,
          0.03751145675778389,
          0.042021334171295166,
          0.04310141131281853,
          0.042667604982852936,
          0.04186195880174637,
          0.04338923096656799,
          0.042901135981082916,
          0.04213426634669304,
          0.04036887735128403,
          0.037266805768013,
          0.042581889778375626,
          0.03931717574596405,
          0.0391913577914238,
          0.03777463734149933,
          0.03093024529516697,
          0.028825512155890465,
          0.03353859856724739,
          0.03918270766735077,
          0.03462717682123184,
          0.03747555613517761,
          0.035791922360658646,
          0.03982627019286156,
          0.03601263463497162,
          0.03867803141474724,
          0.04149499163031578,
          0.03173226863145828,
          0.04182074964046478,
          0.030028261244297028,
          0.04014331102371216,
          0.03647620975971222,
          0.04198789224028587,
          0.0430271215736866,
          0.03813941776752472,
          0.042963284999132156
         ]
        },
        {
         "line": {
          "color": "violet"
         },
         "mode": "lines",
         "name": "Testing Predictions",
         "type": "scatter",
         "x": [
          "2011-02-21T00:00:00",
          "2011-03-02T00:00:00",
          "2011-03-09T00:00:00",
          "2011-03-25T00:00:00",
          "2011-04-03T00:00:00",
          "2011-04-10T00:00:00",
          "2011-04-26T00:00:00",
          "2011-05-05T00:00:00",
          "2011-05-12T00:00:00",
          "2011-05-21T00:00:00",
          "2011-05-28T00:00:00",
          "2011-06-06T00:00:00",
          "2011-06-13T00:00:00",
          "2011-06-22T00:00:00",
          "2011-06-29T00:00:00",
          "2011-07-15T00:00:00",
          "2011-09-01T00:00:00",
          "2011-09-10T00:00:00",
          "2011-09-17T00:00:00",
          "2011-10-19T00:00:00"
         ],
         "y": [
          0.041196078062057495,
          0.03377586603164673,
          0.03878074139356613,
          0.041135843843221664,
          0.04174742102622986,
          0.04000997543334961,
          0.0409582294523716,
          0.04283444955945015,
          0.04085218906402588,
          0.043239809572696686,
          0.04160023853182793,
          0.04353836178779602,
          0.042678117752075195,
          0.04433957859873772,
          0.041843850165605545,
          0.04222509637475014,
          0.043495167046785355,
          0.04098799452185631,
          0.03647024929523468,
          0.04108618572354317
         ]
        }
       ],
       "layout": {
        "autosize": false,
        "height": 500,
        "template": {
         "data": {
          "bar": [
           {
            "error_x": {
             "color": "#2a3f5f"
            },
            "error_y": {
             "color": "#2a3f5f"
            },
            "marker": {
             "line": {
              "color": "#E5ECF6",
              "width": 0.5
             },
             "pattern": {
              "fillmode": "overlay",
              "size": 10,
              "solidity": 0.2
             }
            },
            "type": "bar"
           }
          ],
          "barpolar": [
           {
            "marker": {
             "line": {
              "color": "#E5ECF6",
              "width": 0.5
             },
             "pattern": {
              "fillmode": "overlay",
              "size": 10,
              "solidity": 0.2
             }
            },
            "type": "barpolar"
           }
          ],
          "carpet": [
           {
            "aaxis": {
             "endlinecolor": "#2a3f5f",
             "gridcolor": "white",
             "linecolor": "white",
             "minorgridcolor": "white",
             "startlinecolor": "#2a3f5f"
            },
            "baxis": {
             "endlinecolor": "#2a3f5f",
             "gridcolor": "white",
             "linecolor": "white",
             "minorgridcolor": "white",
             "startlinecolor": "#2a3f5f"
            },
            "type": "carpet"
           }
          ],
          "choropleth": [
           {
            "colorbar": {
             "outlinewidth": 0,
             "ticks": ""
            },
            "type": "choropleth"
           }
          ],
          "contour": [
           {
            "colorbar": {
             "outlinewidth": 0,
             "ticks": ""
            },
            "colorscale": [
             [
              0,
              "#0d0887"
             ],
             [
              0.1111111111111111,
              "#46039f"
             ],
             [
              0.2222222222222222,
              "#7201a8"
             ],
             [
              0.3333333333333333,
              "#9c179e"
             ],
             [
              0.4444444444444444,
              "#bd3786"
             ],
             [
              0.5555555555555556,
              "#d8576b"
             ],
             [
              0.6666666666666666,
              "#ed7953"
             ],
             [
              0.7777777777777778,
              "#fb9f3a"
             ],
             [
              0.8888888888888888,
              "#fdca26"
             ],
             [
              1,
              "#f0f921"
             ]
            ],
            "type": "contour"
           }
          ],
          "contourcarpet": [
           {
            "colorbar": {
             "outlinewidth": 0,
             "ticks": ""
            },
            "type": "contourcarpet"
           }
          ],
          "heatmap": [
           {
            "colorbar": {
             "outlinewidth": 0,
             "ticks": ""
            },
            "colorscale": [
             [
              0,
              "#0d0887"
             ],
             [
              0.1111111111111111,
              "#46039f"
             ],
             [
              0.2222222222222222,
              "#7201a8"
             ],
             [
              0.3333333333333333,
              "#9c179e"
             ],
             [
              0.4444444444444444,
              "#bd3786"
             ],
             [
              0.5555555555555556,
              "#d8576b"
             ],
             [
              0.6666666666666666,
              "#ed7953"
             ],
             [
              0.7777777777777778,
              "#fb9f3a"
             ],
             [
              0.8888888888888888,
              "#fdca26"
             ],
             [
              1,
              "#f0f921"
             ]
            ],
            "type": "heatmap"
           }
          ],
          "heatmapgl": [
           {
            "colorbar": {
             "outlinewidth": 0,
             "ticks": ""
            },
            "colorscale": [
             [
              0,
              "#0d0887"
             ],
             [
              0.1111111111111111,
              "#46039f"
             ],
             [
              0.2222222222222222,
              "#7201a8"
             ],
             [
              0.3333333333333333,
              "#9c179e"
             ],
             [
              0.4444444444444444,
              "#bd3786"
             ],
             [
              0.5555555555555556,
              "#d8576b"
             ],
             [
              0.6666666666666666,
              "#ed7953"
             ],
             [
              0.7777777777777778,
              "#fb9f3a"
             ],
             [
              0.8888888888888888,
              "#fdca26"
             ],
             [
              1,
              "#f0f921"
             ]
            ],
            "type": "heatmapgl"
           }
          ],
          "histogram": [
           {
            "marker": {
             "pattern": {
              "fillmode": "overlay",
              "size": 10,
              "solidity": 0.2
             }
            },
            "type": "histogram"
           }
          ],
          "histogram2d": [
           {
            "colorbar": {
             "outlinewidth": 0,
             "ticks": ""
            },
            "colorscale": [
             [
              0,
              "#0d0887"
             ],
             [
              0.1111111111111111,
              "#46039f"
             ],
             [
              0.2222222222222222,
              "#7201a8"
             ],
             [
              0.3333333333333333,
              "#9c179e"
             ],
             [
              0.4444444444444444,
              "#bd3786"
             ],
             [
              0.5555555555555556,
              "#d8576b"
             ],
             [
              0.6666666666666666,
              "#ed7953"
             ],
             [
              0.7777777777777778,
              "#fb9f3a"
             ],
             [
              0.8888888888888888,
              "#fdca26"
             ],
             [
              1,
              "#f0f921"
             ]
            ],
            "type": "histogram2d"
           }
          ],
          "histogram2dcontour": [
           {
            "colorbar": {
             "outlinewidth": 0,
             "ticks": ""
            },
            "colorscale": [
             [
              0,
              "#0d0887"
             ],
             [
              0.1111111111111111,
              "#46039f"
             ],
             [
              0.2222222222222222,
              "#7201a8"
             ],
             [
              0.3333333333333333,
              "#9c179e"
             ],
             [
              0.4444444444444444,
              "#bd3786"
             ],
             [
              0.5555555555555556,
              "#d8576b"
             ],
             [
              0.6666666666666666,
              "#ed7953"
             ],
             [
              0.7777777777777778,
              "#fb9f3a"
             ],
             [
              0.8888888888888888,
              "#fdca26"
             ],
             [
              1,
              "#f0f921"
             ]
            ],
            "type": "histogram2dcontour"
           }
          ],
          "mesh3d": [
           {
            "colorbar": {
             "outlinewidth": 0,
             "ticks": ""
            },
            "type": "mesh3d"
           }
          ],
          "parcoords": [
           {
            "line": {
             "colorbar": {
              "outlinewidth": 0,
              "ticks": ""
             }
            },
            "type": "parcoords"
           }
          ],
          "pie": [
           {
            "automargin": true,
            "type": "pie"
           }
          ],
          "scatter": [
           {
            "fillpattern": {
             "fillmode": "overlay",
             "size": 10,
             "solidity": 0.2
            },
            "type": "scatter"
           }
          ],
          "scatter3d": [
           {
            "line": {
             "colorbar": {
              "outlinewidth": 0,
              "ticks": ""
             }
            },
            "marker": {
             "colorbar": {
              "outlinewidth": 0,
              "ticks": ""
             }
            },
            "type": "scatter3d"
           }
          ],
          "scattercarpet": [
           {
            "marker": {
             "colorbar": {
              "outlinewidth": 0,
              "ticks": ""
             }
            },
            "type": "scattercarpet"
           }
          ],
          "scattergeo": [
           {
            "marker": {
             "colorbar": {
              "outlinewidth": 0,
              "ticks": ""
             }
            },
            "type": "scattergeo"
           }
          ],
          "scattergl": [
           {
            "marker": {
             "colorbar": {
              "outlinewidth": 0,
              "ticks": ""
             }
            },
            "type": "scattergl"
           }
          ],
          "scattermapbox": [
           {
            "marker": {
             "colorbar": {
              "outlinewidth": 0,
              "ticks": ""
             }
            },
            "type": "scattermapbox"
           }
          ],
          "scatterpolar": [
           {
            "marker": {
             "colorbar": {
              "outlinewidth": 0,
              "ticks": ""
             }
            },
            "type": "scatterpolar"
           }
          ],
          "scatterpolargl": [
           {
            "marker": {
             "colorbar": {
              "outlinewidth": 0,
              "ticks": ""
             }
            },
            "type": "scatterpolargl"
           }
          ],
          "scatterternary": [
           {
            "marker": {
             "colorbar": {
              "outlinewidth": 0,
              "ticks": ""
             }
            },
            "type": "scatterternary"
           }
          ],
          "surface": [
           {
            "colorbar": {
             "outlinewidth": 0,
             "ticks": ""
            },
            "colorscale": [
             [
              0,
              "#0d0887"
             ],
             [
              0.1111111111111111,
              "#46039f"
             ],
             [
              0.2222222222222222,
              "#7201a8"
             ],
             [
              0.3333333333333333,
              "#9c179e"
             ],
             [
              0.4444444444444444,
              "#bd3786"
             ],
             [
              0.5555555555555556,
              "#d8576b"
             ],
             [
              0.6666666666666666,
              "#ed7953"
             ],
             [
              0.7777777777777778,
              "#fb9f3a"
             ],
             [
              0.8888888888888888,
              "#fdca26"
             ],
             [
              1,
              "#f0f921"
             ]
            ],
            "type": "surface"
           }
          ],
          "table": [
           {
            "cells": {
             "fill": {
              "color": "#EBF0F8"
             },
             "line": {
              "color": "white"
             }
            },
            "header": {
             "fill": {
              "color": "#C8D4E3"
             },
             "line": {
              "color": "white"
             }
            },
            "type": "table"
           }
          ]
         },
         "layout": {
          "annotationdefaults": {
           "arrowcolor": "#2a3f5f",
           "arrowhead": 0,
           "arrowwidth": 1
          },
          "autotypenumbers": "strict",
          "coloraxis": {
           "colorbar": {
            "outlinewidth": 0,
            "ticks": ""
           }
          },
          "colorscale": {
           "diverging": [
            [
             0,
             "#8e0152"
            ],
            [
             0.1,
             "#c51b7d"
            ],
            [
             0.2,
             "#de77ae"
            ],
            [
             0.3,
             "#f1b6da"
            ],
            [
             0.4,
             "#fde0ef"
            ],
            [
             0.5,
             "#f7f7f7"
            ],
            [
             0.6,
             "#e6f5d0"
            ],
            [
             0.7,
             "#b8e186"
            ],
            [
             0.8,
             "#7fbc41"
            ],
            [
             0.9,
             "#4d9221"
            ],
            [
             1,
             "#276419"
            ]
           ],
           "sequential": [
            [
             0,
             "#0d0887"
            ],
            [
             0.1111111111111111,
             "#46039f"
            ],
            [
             0.2222222222222222,
             "#7201a8"
            ],
            [
             0.3333333333333333,
             "#9c179e"
            ],
            [
             0.4444444444444444,
             "#bd3786"
            ],
            [
             0.5555555555555556,
             "#d8576b"
            ],
            [
             0.6666666666666666,
             "#ed7953"
            ],
            [
             0.7777777777777778,
             "#fb9f3a"
            ],
            [
             0.8888888888888888,
             "#fdca26"
            ],
            [
             1,
             "#f0f921"
            ]
           ],
           "sequentialminus": [
            [
             0,
             "#0d0887"
            ],
            [
             0.1111111111111111,
             "#46039f"
            ],
            [
             0.2222222222222222,
             "#7201a8"
            ],
            [
             0.3333333333333333,
             "#9c179e"
            ],
            [
             0.4444444444444444,
             "#bd3786"
            ],
            [
             0.5555555555555556,
             "#d8576b"
            ],
            [
             0.6666666666666666,
             "#ed7953"
            ],
            [
             0.7777777777777778,
             "#fb9f3a"
            ],
            [
             0.8888888888888888,
             "#fdca26"
            ],
            [
             1,
             "#f0f921"
            ]
           ]
          },
          "colorway": [
           "#636efa",
           "#EF553B",
           "#00cc96",
           "#ab63fa",
           "#FFA15A",
           "#19d3f3",
           "#FF6692",
           "#B6E880",
           "#FF97FF",
           "#FECB52"
          ],
          "font": {
           "color": "#2a3f5f"
          },
          "geo": {
           "bgcolor": "white",
           "lakecolor": "white",
           "landcolor": "#E5ECF6",
           "showlakes": true,
           "showland": true,
           "subunitcolor": "white"
          },
          "hoverlabel": {
           "align": "left"
          },
          "hovermode": "closest",
          "mapbox": {
           "style": "light"
          },
          "paper_bgcolor": "white",
          "plot_bgcolor": "#E5ECF6",
          "polar": {
           "angularaxis": {
            "gridcolor": "white",
            "linecolor": "white",
            "ticks": ""
           },
           "bgcolor": "#E5ECF6",
           "radialaxis": {
            "gridcolor": "white",
            "linecolor": "white",
            "ticks": ""
           }
          },
          "scene": {
           "xaxis": {
            "backgroundcolor": "#E5ECF6",
            "gridcolor": "white",
            "gridwidth": 2,
            "linecolor": "white",
            "showbackground": true,
            "ticks": "",
            "zerolinecolor": "white"
           },
           "yaxis": {
            "backgroundcolor": "#E5ECF6",
            "gridcolor": "white",
            "gridwidth": 2,
            "linecolor": "white",
            "showbackground": true,
            "ticks": "",
            "zerolinecolor": "white"
           },
           "zaxis": {
            "backgroundcolor": "#E5ECF6",
            "gridcolor": "white",
            "gridwidth": 2,
            "linecolor": "white",
            "showbackground": true,
            "ticks": "",
            "zerolinecolor": "white"
           }
          },
          "shapedefaults": {
           "line": {
            "color": "#2a3f5f"
           }
          },
          "ternary": {
           "aaxis": {
            "gridcolor": "white",
            "linecolor": "white",
            "ticks": ""
           },
           "baxis": {
            "gridcolor": "white",
            "linecolor": "white",
            "ticks": ""
           },
           "bgcolor": "#E5ECF6",
           "caxis": {
            "gridcolor": "white",
            "linecolor": "white",
            "ticks": ""
           }
          },
          "title": {
           "x": 0.05
          },
          "xaxis": {
           "automargin": true,
           "gridcolor": "white",
           "linecolor": "white",
           "ticks": "",
           "title": {
            "standoff": 15
           },
           "zerolinecolor": "white",
           "zerolinewidth": 2
          },
          "yaxis": {
           "automargin": true,
           "gridcolor": "white",
           "linecolor": "white",
           "ticks": "",
           "title": {
            "standoff": 15
           },
           "zerolinecolor": "white",
           "zerolinewidth": 2
          }
         }
        },
        "title": {
         "text": "NDVI Over Time"
        },
        "width": 800,
        "xaxis": {
         "title": {
          "text": "Date"
         }
        },
        "yaxis": {
         "title": {
          "text": "Normalized NDVI"
         }
        }
       }
      }
     },
     "metadata": {},
     "output_type": "display_data"
    }
   ],
   "source": [
    "train_dates, train_predictions, test_dates, test_predictions = prepare_plotting_arrays(ndvi_df, train_predictions, test_predictions)\n",
    "\n",
    "plot_predictions(ndvi_df, train_dates, train_predictions, test_dates, test_predictions, scaler)\n"
   ]
  },
  {
   "cell_type": "markdown",
   "metadata": {},
   "source": [
    "<h3 style=\"color:violet;\">Unveiling LSTM's Story of Vegetation Health</h3>\n",
    "\n",
    "Meet our fascinating LSTM model, a well-versed storyteller that spins tales from sequences and patterns.\n",
    "\n",
    "#### LSTM's Learning Journey 📚\n",
    "- LSTM, our chosen model, unravels the yarn of data by reading each 'ndvi' value, one by one, absorbing the essence of our vegetation's health story.\n",
    "- As LSTM delves into the story, it keeps a keen eye on the details, learning and remembering the intricate patterns in our data.\n",
    "\n",
    "#### LSTM's Proficiency - The RMSE 🎯\n",
    "- Our storyteller's proficiency is marked by the Root Mean Squared Error (RMSE). This metric tells us how closely LSTM's tale aligns with the actual story.\n",
    "- With an RMSE of 0.02 on the training set and 0.01 on the test set, our storyteller has proven its skill, narrating a tale that echoes the real narrative quite closely.\n",
    "\n",
    "#### Understanding RMSE 📏\n",
    "- RMSE is a mirror that reflects the difference between the story LSTM tells and the story our data narrates. A lower RMSE is a testament to LSTM's storytelling prowess.\n",
    "- However, let's remember, an RMSE is but a single measure of LSTM's capabilities. Other factors, such as model complexity and project requirements, also play a crucial role in assessing LSTM's overall performance.\n",
    "\n",
    "#### The Essence of LSTM's Story 📖\n",
    "- Although LSTM's tale seems to be a close echo of the actual story, it's important to remember that LSTM thrives on long narratives. The more data we feed it, the better it becomes at storytelling.\n",
    "- Despite the limited dataset, LSTM has spun a compelling tale, echoing the patterns in our data quite closely. This shows its potential in learning and predicting the intricate tales of vegetation health.\n",
    "\n",
    "In the grand library of machine learning, LSTM's tale is indeed a fascinating one! With its ability to learn from sequences and remember patterns, it spins an intriguing story that closely echoes the real narrative of our vegetation's health. 🌿🌳"
   ]
  }
 ],
 "metadata": {
  "kernelspec": {
   "display_name": "Python 3",
   "language": "python",
   "name": "python3"
  },
  "language_info": {
   "codemirror_mode": {
    "name": "ipython",
    "version": 3
   },
   "file_extension": ".py",
   "mimetype": "text/x-python",
   "name": "python",
   "nbconvert_exporter": "python",
   "pygments_lexer": "ipython3",
   "version": "3.11.4"
  },
  "orig_nbformat": 4
 },
 "nbformat": 4,
 "nbformat_minor": 2
}
